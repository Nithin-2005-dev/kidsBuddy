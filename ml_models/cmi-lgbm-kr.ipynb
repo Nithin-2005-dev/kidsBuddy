{
 "cells": [
  {
   "cell_type": "markdown",
   "id": "d63a2852",
   "metadata": {
    "papermill": {
     "duration": 0.017444,
     "end_time": "2024-11-08T16:56:14.786741",
     "exception": false,
     "start_time": "2024-11-08T16:56:14.769297",
     "status": "completed"
    },
    "tags": []
   },
   "source": [
    "### Reference\n",
    "- {Notebook} [CMI | Best Single Model](https://www.kaggle.com/code/abdmental01/cmi-best-single-model)\n",
    "- {Notebook} [CMI | Best Single Model (explained)](https://www.kaggle.com/code/sunghoshim/cmi-best-single-model-explained)\n",
    "\n",
    "### TODO\n",
    "- TimeSeries 에서 여러 feature 만들기\n",
    "- ssi 없는 애들 만들기\n",
    "- threshold 값 찾기"
   ]
  },
  {
   "cell_type": "code",
   "execution_count": 2,
   "id": "276b6058",
   "metadata": {
    "_cell_guid": "b1076dfc-b9ad-4769-8c92-a6c4dae69d19",
    "_uuid": "8f2839f25d086af736a60e9eeb907d3b93b6e0e5",
    "execution": {
     "iopub.execute_input": "2024-11-08T16:56:14.823640Z",
     "iopub.status.busy": "2024-11-08T16:56:14.823083Z",
     "iopub.status.idle": "2024-11-08T16:56:18.980865Z",
     "shell.execute_reply": "2024-11-08T16:56:18.979499Z"
    },
    "papermill": {
     "duration": 4.180448,
     "end_time": "2024-11-08T16:56:18.984066",
     "exception": false,
     "start_time": "2024-11-08T16:56:14.803618",
     "status": "completed"
    },
    "tags": []
   },
   "outputs": [],
   "source": [
    "from pathlib import Path\n",
    "\n",
    "import numpy as np\n",
    "import polars as pl\n",
    "import pandas as pd\n",
    "\n",
    "from sklearn.model_selection import StratifiedKFold, cross_validate, GridSearchCV\n",
    "from sklearn.metrics import make_scorer, cohen_kappa_score\n",
    "\n",
    "import lightgbm as lgb\n",
    "\n",
    "from tqdm.notebook import tqdm"
   ]
  },
  {
   "cell_type": "markdown",
   "id": "43478344",
   "metadata": {
    "papermill": {
     "duration": 0.01689,
     "end_time": "2024-11-08T16:56:19.017504",
     "exception": false,
     "start_time": "2024-11-08T16:56:19.000614",
     "status": "completed"
    },
    "tags": []
   },
   "source": [
    "## 1. Config"
   ]
  },
  {
   "cell_type": "code",
   "execution_count": 3,
   "id": "128b869d",
   "metadata": {
    "execution": {
     "iopub.execute_input": "2024-11-08T16:56:19.051673Z",
     "iopub.status.busy": "2024-11-08T16:56:19.050996Z",
     "iopub.status.idle": "2024-11-08T16:56:19.059064Z",
     "shell.execute_reply": "2024-11-08T16:56:19.057806Z"
    },
    "papermill": {
     "duration": 0.028138,
     "end_time": "2024-11-08T16:56:19.061624",
     "exception": false,
     "start_time": "2024-11-08T16:56:19.033486",
     "status": "completed"
    },
    "tags": []
   },
   "outputs": [],
   "source": [
    "CFG = {\n",
    "    'SEED': 42,\n",
    "    'LGB_PARAMS': {  # LGBM default\n",
    "        'num_leaves': 31,\n",
    "        'max_depth': -1,\n",
    "        'n_estimators' : 100,\n",
    "        'min_child_samples': 20,\n",
    "    }\n",
    "}"
   ]
  },
  {
   "cell_type": "markdown",
   "id": "281139c8",
   "metadata": {
    "papermill": {
     "duration": 0.015605,
     "end_time": "2024-11-08T16:56:19.093484",
     "exception": false,
     "start_time": "2024-11-08T16:56:19.077879",
     "status": "completed"
    },
    "tags": []
   },
   "source": [
    "## 1. Utils for Time Series Data\n",
    "- TODO: TimeSeries 에서 여러 feature 만들기"
   ]
  },
  {
   "cell_type": "code",
   "execution_count": 4,
   "id": "bffe75a1",
   "metadata": {
    "execution": {
     "iopub.execute_input": "2024-11-08T16:56:19.126908Z",
     "iopub.status.busy": "2024-11-08T16:56:19.126434Z",
     "iopub.status.idle": "2024-11-08T16:56:19.133569Z",
     "shell.execute_reply": "2024-11-08T16:56:19.132503Z"
    },
    "papermill": {
     "duration": 0.026698,
     "end_time": "2024-11-08T16:56:19.135991",
     "exception": false,
     "start_time": "2024-11-08T16:56:19.109293",
     "status": "completed"
    },
    "tags": []
   },
   "outputs": [],
   "source": [
    "def get_ts_feature(id_path):\n",
    "    df = pl.read_parquet(id_path / 'part-0.parquet')\n",
    "    ts_feature = df.describe().filter(\n",
    "        ~pl.col(\"statistic\").is_in([\"count\", \"null_count\"])\n",
    "    ).select(\n",
    "        pl.all().exclude([\"statistic\", \"step\"])\n",
    "    ).to_numpy().reshape(-1)\n",
    "    \n",
    "    patient_id = id_path.name.split(\"=\")[1]\n",
    "    \n",
    "    return ts_feature, patient_id"
   ]
  },
  {
   "cell_type": "code",
   "execution_count": 5,
   "id": "53f0e5bb",
   "metadata": {
    "execution": {
     "iopub.execute_input": "2024-11-08T16:56:19.170309Z",
     "iopub.status.busy": "2024-11-08T16:56:19.169336Z",
     "iopub.status.idle": "2024-11-08T16:56:19.177296Z",
     "shell.execute_reply": "2024-11-08T16:56:19.175969Z"
    },
    "papermill": {
     "duration": 0.027734,
     "end_time": "2024-11-08T16:56:19.179684",
     "exception": false,
     "start_time": "2024-11-08T16:56:19.151950",
     "status": "completed"
    },
    "tags": []
   },
   "outputs": [],
   "source": [
    "def get_all_ts_feature(parquet_dir) -> pd.DataFrame:\n",
    "    items = list(Path(parquet_dir).iterdir())\n",
    "    features = []\n",
    "    ids = []\n",
    "    for id_path in tqdm(items):  # ex) \"id=00115b9f\"\n",
    "        feature, patient_id = get_ts_feature(id_path)\n",
    "        features.append(feature)\n",
    "        ids.append(patient_id)\n",
    "        \n",
    "    columns = [f\"stat_{i}\" for i in range(len(features[0]))]\n",
    "    df = pd.DataFrame(features, columns=columns, index=ids)\n",
    "    return df"
   ]
  },
  {
   "cell_type": "markdown",
   "id": "271902ed",
   "metadata": {
    "papermill": {
     "duration": 0.015471,
     "end_time": "2024-11-08T16:56:19.211049",
     "exception": false,
     "start_time": "2024-11-08T16:56:19.195578",
     "status": "completed"
    },
    "tags": []
   },
   "source": [
    "## 2. Load Datasets"
   ]
  },
  {
   "cell_type": "code",
   "execution_count": null,
   "id": "9be6eb63",
   "metadata": {
    "execution": {
     "iopub.execute_input": "2024-11-08T16:56:19.244920Z",
     "iopub.status.busy": "2024-11-08T16:56:19.244111Z",
     "iopub.status.idle": "2024-11-08T16:56:19.451445Z",
     "shell.execute_reply": "2024-11-08T16:56:19.450127Z"
    },
    "papermill": {
     "duration": 0.227189,
     "end_time": "2024-11-08T16:56:19.454199",
     "exception": false,
     "start_time": "2024-11-08T16:56:19.227010",
     "status": "completed"
    },
    "tags": []
   },
   "outputs": [
    {
     "ename": "FileNotFoundError",
     "evalue": "[Errno 2] No such file or directory: '/kaggle/input/child-mind-institute-problematic-internet-use/train.csv'",
     "output_type": "error",
     "traceback": [
      "\u001b[1;31m---------------------------------------------------------------------------\u001b[0m",
      "\u001b[1;31mFileNotFoundError\u001b[0m                         Traceback (most recent call last)",
      "Cell \u001b[1;32mIn[6], line 1\u001b[0m\n\u001b[1;32m----> 1\u001b[0m df_train \u001b[38;5;241m=\u001b[39m \u001b[43mpd\u001b[49m\u001b[38;5;241;43m.\u001b[39;49m\u001b[43mread_csv\u001b[49m\u001b[43m(\u001b[49m\u001b[38;5;124;43m'\u001b[39;49m\u001b[38;5;124;43m/kaggle/input/child-mind-institute-problematic-internet-use/train.csv\u001b[39;49m\u001b[38;5;124;43m'\u001b[39;49m\u001b[43m)\u001b[49m\n\u001b[0;32m      2\u001b[0m df_test \u001b[38;5;241m=\u001b[39m pd\u001b[38;5;241m.\u001b[39mread_csv(\u001b[38;5;124m'\u001b[39m\u001b[38;5;124m/kaggle/input/child-mind-institute-problematic-internet-use/test.csv\u001b[39m\u001b[38;5;124m'\u001b[39m)\n\u001b[0;32m      3\u001b[0m df_sample \u001b[38;5;241m=\u001b[39m pd\u001b[38;5;241m.\u001b[39mread_csv(\u001b[38;5;124m'\u001b[39m\u001b[38;5;124m/kaggle/input/child-mind-institute-problematic-internet-use/sample_submission.csv\u001b[39m\u001b[38;5;124m'\u001b[39m)\n",
      "File \u001b[1;32m~\\AppData\\Local\\Packages\\PythonSoftwareFoundation.Python.3.12_qbz5n2kfra8p0\\LocalCache\\local-packages\\Python312\\site-packages\\pandas\\io\\parsers\\readers.py:1024\u001b[0m, in \u001b[0;36mread_csv\u001b[1;34m(filepath_or_buffer, sep, delimiter, header, names, index_col, usecols, dtype, engine, converters, true_values, false_values, skipinitialspace, skiprows, skipfooter, nrows, na_values, keep_default_na, na_filter, verbose, skip_blank_lines, parse_dates, infer_datetime_format, keep_date_col, date_parser, date_format, dayfirst, cache_dates, iterator, chunksize, compression, thousands, decimal, lineterminator, quotechar, quoting, doublequote, escapechar, comment, encoding, encoding_errors, dialect, on_bad_lines, delim_whitespace, low_memory, memory_map, float_precision, storage_options, dtype_backend)\u001b[0m\n\u001b[0;32m   1011\u001b[0m kwds_defaults \u001b[38;5;241m=\u001b[39m _refine_defaults_read(\n\u001b[0;32m   1012\u001b[0m     dialect,\n\u001b[0;32m   1013\u001b[0m     delimiter,\n\u001b[1;32m   (...)\u001b[0m\n\u001b[0;32m   1020\u001b[0m     dtype_backend\u001b[38;5;241m=\u001b[39mdtype_backend,\n\u001b[0;32m   1021\u001b[0m )\n\u001b[0;32m   1022\u001b[0m kwds\u001b[38;5;241m.\u001b[39mupdate(kwds_defaults)\n\u001b[1;32m-> 1024\u001b[0m \u001b[38;5;28;01mreturn\u001b[39;00m \u001b[43m_read\u001b[49m\u001b[43m(\u001b[49m\u001b[43mfilepath_or_buffer\u001b[49m\u001b[43m,\u001b[49m\u001b[43m \u001b[49m\u001b[43mkwds\u001b[49m\u001b[43m)\u001b[49m\n",
      "File \u001b[1;32m~\\AppData\\Local\\Packages\\PythonSoftwareFoundation.Python.3.12_qbz5n2kfra8p0\\LocalCache\\local-packages\\Python312\\site-packages\\pandas\\io\\parsers\\readers.py:618\u001b[0m, in \u001b[0;36m_read\u001b[1;34m(filepath_or_buffer, kwds)\u001b[0m\n\u001b[0;32m    615\u001b[0m _validate_names(kwds\u001b[38;5;241m.\u001b[39mget(\u001b[38;5;124m\"\u001b[39m\u001b[38;5;124mnames\u001b[39m\u001b[38;5;124m\"\u001b[39m, \u001b[38;5;28;01mNone\u001b[39;00m))\n\u001b[0;32m    617\u001b[0m \u001b[38;5;66;03m# Create the parser.\u001b[39;00m\n\u001b[1;32m--> 618\u001b[0m parser \u001b[38;5;241m=\u001b[39m \u001b[43mTextFileReader\u001b[49m\u001b[43m(\u001b[49m\u001b[43mfilepath_or_buffer\u001b[49m\u001b[43m,\u001b[49m\u001b[43m \u001b[49m\u001b[38;5;241;43m*\u001b[39;49m\u001b[38;5;241;43m*\u001b[39;49m\u001b[43mkwds\u001b[49m\u001b[43m)\u001b[49m\n\u001b[0;32m    620\u001b[0m \u001b[38;5;28;01mif\u001b[39;00m chunksize \u001b[38;5;129;01mor\u001b[39;00m iterator:\n\u001b[0;32m    621\u001b[0m     \u001b[38;5;28;01mreturn\u001b[39;00m parser\n",
      "File \u001b[1;32m~\\AppData\\Local\\Packages\\PythonSoftwareFoundation.Python.3.12_qbz5n2kfra8p0\\LocalCache\\local-packages\\Python312\\site-packages\\pandas\\io\\parsers\\readers.py:1618\u001b[0m, in \u001b[0;36mTextFileReader.__init__\u001b[1;34m(self, f, engine, **kwds)\u001b[0m\n\u001b[0;32m   1615\u001b[0m     \u001b[38;5;28mself\u001b[39m\u001b[38;5;241m.\u001b[39moptions[\u001b[38;5;124m\"\u001b[39m\u001b[38;5;124mhas_index_names\u001b[39m\u001b[38;5;124m\"\u001b[39m] \u001b[38;5;241m=\u001b[39m kwds[\u001b[38;5;124m\"\u001b[39m\u001b[38;5;124mhas_index_names\u001b[39m\u001b[38;5;124m\"\u001b[39m]\n\u001b[0;32m   1617\u001b[0m \u001b[38;5;28mself\u001b[39m\u001b[38;5;241m.\u001b[39mhandles: IOHandles \u001b[38;5;241m|\u001b[39m \u001b[38;5;28;01mNone\u001b[39;00m \u001b[38;5;241m=\u001b[39m \u001b[38;5;28;01mNone\u001b[39;00m\n\u001b[1;32m-> 1618\u001b[0m \u001b[38;5;28mself\u001b[39m\u001b[38;5;241m.\u001b[39m_engine \u001b[38;5;241m=\u001b[39m \u001b[38;5;28;43mself\u001b[39;49m\u001b[38;5;241;43m.\u001b[39;49m\u001b[43m_make_engine\u001b[49m\u001b[43m(\u001b[49m\u001b[43mf\u001b[49m\u001b[43m,\u001b[49m\u001b[43m \u001b[49m\u001b[38;5;28;43mself\u001b[39;49m\u001b[38;5;241;43m.\u001b[39;49m\u001b[43mengine\u001b[49m\u001b[43m)\u001b[49m\n",
      "File \u001b[1;32m~\\AppData\\Local\\Packages\\PythonSoftwareFoundation.Python.3.12_qbz5n2kfra8p0\\LocalCache\\local-packages\\Python312\\site-packages\\pandas\\io\\parsers\\readers.py:1878\u001b[0m, in \u001b[0;36mTextFileReader._make_engine\u001b[1;34m(self, f, engine)\u001b[0m\n\u001b[0;32m   1876\u001b[0m     \u001b[38;5;28;01mif\u001b[39;00m \u001b[38;5;124m\"\u001b[39m\u001b[38;5;124mb\u001b[39m\u001b[38;5;124m\"\u001b[39m \u001b[38;5;129;01mnot\u001b[39;00m \u001b[38;5;129;01min\u001b[39;00m mode:\n\u001b[0;32m   1877\u001b[0m         mode \u001b[38;5;241m+\u001b[39m\u001b[38;5;241m=\u001b[39m \u001b[38;5;124m\"\u001b[39m\u001b[38;5;124mb\u001b[39m\u001b[38;5;124m\"\u001b[39m\n\u001b[1;32m-> 1878\u001b[0m \u001b[38;5;28mself\u001b[39m\u001b[38;5;241m.\u001b[39mhandles \u001b[38;5;241m=\u001b[39m \u001b[43mget_handle\u001b[49m\u001b[43m(\u001b[49m\n\u001b[0;32m   1879\u001b[0m \u001b[43m    \u001b[49m\u001b[43mf\u001b[49m\u001b[43m,\u001b[49m\n\u001b[0;32m   1880\u001b[0m \u001b[43m    \u001b[49m\u001b[43mmode\u001b[49m\u001b[43m,\u001b[49m\n\u001b[0;32m   1881\u001b[0m \u001b[43m    \u001b[49m\u001b[43mencoding\u001b[49m\u001b[38;5;241;43m=\u001b[39;49m\u001b[38;5;28;43mself\u001b[39;49m\u001b[38;5;241;43m.\u001b[39;49m\u001b[43moptions\u001b[49m\u001b[38;5;241;43m.\u001b[39;49m\u001b[43mget\u001b[49m\u001b[43m(\u001b[49m\u001b[38;5;124;43m\"\u001b[39;49m\u001b[38;5;124;43mencoding\u001b[39;49m\u001b[38;5;124;43m\"\u001b[39;49m\u001b[43m,\u001b[49m\u001b[43m \u001b[49m\u001b[38;5;28;43;01mNone\u001b[39;49;00m\u001b[43m)\u001b[49m\u001b[43m,\u001b[49m\n\u001b[0;32m   1882\u001b[0m \u001b[43m    \u001b[49m\u001b[43mcompression\u001b[49m\u001b[38;5;241;43m=\u001b[39;49m\u001b[38;5;28;43mself\u001b[39;49m\u001b[38;5;241;43m.\u001b[39;49m\u001b[43moptions\u001b[49m\u001b[38;5;241;43m.\u001b[39;49m\u001b[43mget\u001b[49m\u001b[43m(\u001b[49m\u001b[38;5;124;43m\"\u001b[39;49m\u001b[38;5;124;43mcompression\u001b[39;49m\u001b[38;5;124;43m\"\u001b[39;49m\u001b[43m,\u001b[49m\u001b[43m \u001b[49m\u001b[38;5;28;43;01mNone\u001b[39;49;00m\u001b[43m)\u001b[49m\u001b[43m,\u001b[49m\n\u001b[0;32m   1883\u001b[0m \u001b[43m    \u001b[49m\u001b[43mmemory_map\u001b[49m\u001b[38;5;241;43m=\u001b[39;49m\u001b[38;5;28;43mself\u001b[39;49m\u001b[38;5;241;43m.\u001b[39;49m\u001b[43moptions\u001b[49m\u001b[38;5;241;43m.\u001b[39;49m\u001b[43mget\u001b[49m\u001b[43m(\u001b[49m\u001b[38;5;124;43m\"\u001b[39;49m\u001b[38;5;124;43mmemory_map\u001b[39;49m\u001b[38;5;124;43m\"\u001b[39;49m\u001b[43m,\u001b[49m\u001b[43m \u001b[49m\u001b[38;5;28;43;01mFalse\u001b[39;49;00m\u001b[43m)\u001b[49m\u001b[43m,\u001b[49m\n\u001b[0;32m   1884\u001b[0m \u001b[43m    \u001b[49m\u001b[43mis_text\u001b[49m\u001b[38;5;241;43m=\u001b[39;49m\u001b[43mis_text\u001b[49m\u001b[43m,\u001b[49m\n\u001b[0;32m   1885\u001b[0m \u001b[43m    \u001b[49m\u001b[43merrors\u001b[49m\u001b[38;5;241;43m=\u001b[39;49m\u001b[38;5;28;43mself\u001b[39;49m\u001b[38;5;241;43m.\u001b[39;49m\u001b[43moptions\u001b[49m\u001b[38;5;241;43m.\u001b[39;49m\u001b[43mget\u001b[49m\u001b[43m(\u001b[49m\u001b[38;5;124;43m\"\u001b[39;49m\u001b[38;5;124;43mencoding_errors\u001b[39;49m\u001b[38;5;124;43m\"\u001b[39;49m\u001b[43m,\u001b[49m\u001b[43m \u001b[49m\u001b[38;5;124;43m\"\u001b[39;49m\u001b[38;5;124;43mstrict\u001b[39;49m\u001b[38;5;124;43m\"\u001b[39;49m\u001b[43m)\u001b[49m\u001b[43m,\u001b[49m\n\u001b[0;32m   1886\u001b[0m \u001b[43m    \u001b[49m\u001b[43mstorage_options\u001b[49m\u001b[38;5;241;43m=\u001b[39;49m\u001b[38;5;28;43mself\u001b[39;49m\u001b[38;5;241;43m.\u001b[39;49m\u001b[43moptions\u001b[49m\u001b[38;5;241;43m.\u001b[39;49m\u001b[43mget\u001b[49m\u001b[43m(\u001b[49m\u001b[38;5;124;43m\"\u001b[39;49m\u001b[38;5;124;43mstorage_options\u001b[39;49m\u001b[38;5;124;43m\"\u001b[39;49m\u001b[43m,\u001b[49m\u001b[43m \u001b[49m\u001b[38;5;28;43;01mNone\u001b[39;49;00m\u001b[43m)\u001b[49m\u001b[43m,\u001b[49m\n\u001b[0;32m   1887\u001b[0m \u001b[43m\u001b[49m\u001b[43m)\u001b[49m\n\u001b[0;32m   1888\u001b[0m \u001b[38;5;28;01massert\u001b[39;00m \u001b[38;5;28mself\u001b[39m\u001b[38;5;241m.\u001b[39mhandles \u001b[38;5;129;01mis\u001b[39;00m \u001b[38;5;129;01mnot\u001b[39;00m \u001b[38;5;28;01mNone\u001b[39;00m\n\u001b[0;32m   1889\u001b[0m f \u001b[38;5;241m=\u001b[39m \u001b[38;5;28mself\u001b[39m\u001b[38;5;241m.\u001b[39mhandles\u001b[38;5;241m.\u001b[39mhandle\n",
      "File \u001b[1;32m~\\AppData\\Local\\Packages\\PythonSoftwareFoundation.Python.3.12_qbz5n2kfra8p0\\LocalCache\\local-packages\\Python312\\site-packages\\pandas\\io\\common.py:873\u001b[0m, in \u001b[0;36mget_handle\u001b[1;34m(path_or_buf, mode, encoding, compression, memory_map, is_text, errors, storage_options)\u001b[0m\n\u001b[0;32m    868\u001b[0m \u001b[38;5;28;01melif\u001b[39;00m \u001b[38;5;28misinstance\u001b[39m(handle, \u001b[38;5;28mstr\u001b[39m):\n\u001b[0;32m    869\u001b[0m     \u001b[38;5;66;03m# Check whether the filename is to be opened in binary mode.\u001b[39;00m\n\u001b[0;32m    870\u001b[0m     \u001b[38;5;66;03m# Binary mode does not support 'encoding' and 'newline'.\u001b[39;00m\n\u001b[0;32m    871\u001b[0m     \u001b[38;5;28;01mif\u001b[39;00m ioargs\u001b[38;5;241m.\u001b[39mencoding \u001b[38;5;129;01mand\u001b[39;00m \u001b[38;5;124m\"\u001b[39m\u001b[38;5;124mb\u001b[39m\u001b[38;5;124m\"\u001b[39m \u001b[38;5;129;01mnot\u001b[39;00m \u001b[38;5;129;01min\u001b[39;00m ioargs\u001b[38;5;241m.\u001b[39mmode:\n\u001b[0;32m    872\u001b[0m         \u001b[38;5;66;03m# Encoding\u001b[39;00m\n\u001b[1;32m--> 873\u001b[0m         handle \u001b[38;5;241m=\u001b[39m \u001b[38;5;28;43mopen\u001b[39;49m\u001b[43m(\u001b[49m\n\u001b[0;32m    874\u001b[0m \u001b[43m            \u001b[49m\u001b[43mhandle\u001b[49m\u001b[43m,\u001b[49m\n\u001b[0;32m    875\u001b[0m \u001b[43m            \u001b[49m\u001b[43mioargs\u001b[49m\u001b[38;5;241;43m.\u001b[39;49m\u001b[43mmode\u001b[49m\u001b[43m,\u001b[49m\n\u001b[0;32m    876\u001b[0m \u001b[43m            \u001b[49m\u001b[43mencoding\u001b[49m\u001b[38;5;241;43m=\u001b[39;49m\u001b[43mioargs\u001b[49m\u001b[38;5;241;43m.\u001b[39;49m\u001b[43mencoding\u001b[49m\u001b[43m,\u001b[49m\n\u001b[0;32m    877\u001b[0m \u001b[43m            \u001b[49m\u001b[43merrors\u001b[49m\u001b[38;5;241;43m=\u001b[39;49m\u001b[43merrors\u001b[49m\u001b[43m,\u001b[49m\n\u001b[0;32m    878\u001b[0m \u001b[43m            \u001b[49m\u001b[43mnewline\u001b[49m\u001b[38;5;241;43m=\u001b[39;49m\u001b[38;5;124;43m\"\u001b[39;49m\u001b[38;5;124;43m\"\u001b[39;49m\u001b[43m,\u001b[49m\n\u001b[0;32m    879\u001b[0m \u001b[43m        \u001b[49m\u001b[43m)\u001b[49m\n\u001b[0;32m    880\u001b[0m     \u001b[38;5;28;01melse\u001b[39;00m:\n\u001b[0;32m    881\u001b[0m         \u001b[38;5;66;03m# Binary mode\u001b[39;00m\n\u001b[0;32m    882\u001b[0m         handle \u001b[38;5;241m=\u001b[39m \u001b[38;5;28mopen\u001b[39m(handle, ioargs\u001b[38;5;241m.\u001b[39mmode)\n",
      "\u001b[1;31mFileNotFoundError\u001b[0m: [Errno 2] No such file or directory: '/kaggle/input/child-mind-institute-problematic-internet-use/train.csv'"
     ]
    },
    {
     "ename": "",
     "evalue": "",
     "output_type": "error",
     "traceback": [
      "\u001b[1;31mThe Kernel crashed while executing code in the current cell or a previous cell. \n",
      "\u001b[1;31mPlease review the code in the cell(s) to identify a possible cause of the failure. \n",
      "\u001b[1;31mClick <a href='https://aka.ms/vscodeJupyterKernelCrash'>here</a> for more info. \n",
      "\u001b[1;31mView Jupyter <a href='command:jupyter.viewOutput'>log</a> for further details."
     ]
    }
   ],
   "source": [
    "df_train = pd.read_csv('/kaggle/input/child-mind-institute-problematic-internet-use/train.csv')\n",
    "df_test = pd.read_csv('/kaggle/input/child-mind-institute-problematic-internet-use/test.csv')\n",
    "df_sample = pd.read_csv('/kaggle/input/child-mind-institute-problematic-internet-use/sample_submission.csv')\n",
    "df_train.shape, df_test.shape, df_sample.shape"
   ]
  },
  {
   "cell_type": "code",
   "execution_count": null,
   "id": "9f66a359",
   "metadata": {
    "execution": {
     "iopub.execute_input": "2024-11-08T16:56:19.491487Z",
     "iopub.status.busy": "2024-11-08T16:56:19.490134Z",
     "iopub.status.idle": "2024-11-08T16:58:37.321315Z",
     "shell.execute_reply": "2024-11-08T16:58:37.319865Z"
    },
    "papermill": {
     "duration": 137.852655,
     "end_time": "2024-11-08T16:58:37.323995",
     "exception": false,
     "start_time": "2024-11-08T16:56:19.471340",
     "status": "completed"
    },
    "tags": []
   },
   "outputs": [
    {
     "data": {
      "application/vnd.jupyter.widget-view+json": {
       "model_id": "cf167baa471b47ca91b6f669fa01ba1f",
       "version_major": 2,
       "version_minor": 0
      },
      "text/plain": [
       "  0%|          | 0/996 [00:00<?, ?it/s]"
      ]
     },
     "metadata": {},
     "output_type": "display_data"
    },
    {
     "data": {
      "text/plain": [
       "(996, 84)"
      ]
     },
     "execution_count": 6,
     "metadata": {},
     "output_type": "execute_result"
    }
   ],
   "source": [
    "df_train_ts = get_all_ts_feature(\"/kaggle/input/child-mind-institute-problematic-internet-use/series_train.parquet\")\n",
    "df_train_ts.shape"
   ]
  },
  {
   "cell_type": "code",
   "execution_count": null,
   "id": "d64e3c07",
   "metadata": {
    "execution": {
     "iopub.execute_input": "2024-11-08T16:58:37.358739Z",
     "iopub.status.busy": "2024-11-08T16:58:37.358328Z",
     "iopub.status.idle": "2024-11-08T16:58:37.569772Z",
     "shell.execute_reply": "2024-11-08T16:58:37.568583Z"
    },
    "papermill": {
     "duration": 0.231662,
     "end_time": "2024-11-08T16:58:37.572222",
     "exception": false,
     "start_time": "2024-11-08T16:58:37.340560",
     "status": "completed"
    },
    "tags": []
   },
   "outputs": [
    {
     "data": {
      "application/vnd.jupyter.widget-view+json": {
       "model_id": "806098c129744973955a25a88c825cfc",
       "version_major": 2,
       "version_minor": 0
      },
      "text/plain": [
       "  0%|          | 0/2 [00:00<?, ?it/s]"
      ]
     },
     "metadata": {},
     "output_type": "display_data"
    },
    {
     "data": {
      "text/plain": [
       "(2, 84)"
      ]
     },
     "execution_count": 7,
     "metadata": {},
     "output_type": "execute_result"
    }
   ],
   "source": [
    "df_test_ts = get_all_ts_feature(\"/kaggle/input/child-mind-institute-problematic-internet-use/series_test.parquet\")\n",
    "df_test_ts.shape"
   ]
  },
  {
   "cell_type": "code",
   "execution_count": null,
   "id": "8a1fa969",
   "metadata": {
    "execution": {
     "iopub.execute_input": "2024-11-08T16:58:37.608128Z",
     "iopub.status.busy": "2024-11-08T16:58:37.607231Z",
     "iopub.status.idle": "2024-11-08T16:58:37.642832Z",
     "shell.execute_reply": "2024-11-08T16:58:37.641634Z"
    },
    "papermill": {
     "duration": 0.056231,
     "end_time": "2024-11-08T16:58:37.645386",
     "exception": false,
     "start_time": "2024-11-08T16:58:37.589155",
     "status": "completed"
    },
    "tags": []
   },
   "outputs": [
    {
     "data": {
      "text/plain": [
       "((3960, 166), (20, 143))"
      ]
     },
     "execution_count": 8,
     "metadata": {},
     "output_type": "execute_result"
    }
   ],
   "source": [
    "df_train = pd.merge(df_train, df_train_ts, how='left', left_on='id', right_index=True)\n",
    "df_test = pd.merge(df_test, df_test_ts, how='left', left_on='id', right_index=True)\n",
    "df_train.shape, df_test.shape"
   ]
  },
  {
   "cell_type": "code",
   "execution_count": null,
   "id": "ff7903af",
   "metadata": {
    "execution": {
     "iopub.execute_input": "2024-11-08T16:58:37.682383Z",
     "iopub.status.busy": "2024-11-08T16:58:37.681453Z",
     "iopub.status.idle": "2024-11-08T16:58:37.689748Z",
     "shell.execute_reply": "2024-11-08T16:58:37.688718Z"
    },
    "papermill": {
     "duration": 0.029672,
     "end_time": "2024-11-08T16:58:37.692351",
     "exception": false,
     "start_time": "2024-11-08T16:58:37.662679",
     "status": "completed"
    },
    "tags": []
   },
   "outputs": [
    {
     "data": {
      "text/plain": [
       "{'PCIAT-PCIAT_01',\n",
       " 'PCIAT-PCIAT_02',\n",
       " 'PCIAT-PCIAT_03',\n",
       " 'PCIAT-PCIAT_04',\n",
       " 'PCIAT-PCIAT_05',\n",
       " 'PCIAT-PCIAT_06',\n",
       " 'PCIAT-PCIAT_07',\n",
       " 'PCIAT-PCIAT_08',\n",
       " 'PCIAT-PCIAT_09',\n",
       " 'PCIAT-PCIAT_10',\n",
       " 'PCIAT-PCIAT_11',\n",
       " 'PCIAT-PCIAT_12',\n",
       " 'PCIAT-PCIAT_13',\n",
       " 'PCIAT-PCIAT_14',\n",
       " 'PCIAT-PCIAT_15',\n",
       " 'PCIAT-PCIAT_16',\n",
       " 'PCIAT-PCIAT_17',\n",
       " 'PCIAT-PCIAT_18',\n",
       " 'PCIAT-PCIAT_19',\n",
       " 'PCIAT-PCIAT_20',\n",
       " 'PCIAT-PCIAT_Total',\n",
       " 'PCIAT-Season',\n",
       " 'sii'}"
      ]
     },
     "execution_count": 9,
     "metadata": {},
     "output_type": "execute_result"
    }
   ],
   "source": [
    "set(df_train.columns) - set(df_test.columns)"
   ]
  },
  {
   "cell_type": "code",
   "execution_count": null,
   "id": "668c8407",
   "metadata": {
    "execution": {
     "iopub.execute_input": "2024-11-08T16:58:37.728874Z",
     "iopub.status.busy": "2024-11-08T16:58:37.728459Z",
     "iopub.status.idle": "2024-11-08T16:58:37.736694Z",
     "shell.execute_reply": "2024-11-08T16:58:37.735472Z"
    },
    "papermill": {
     "duration": 0.029427,
     "end_time": "2024-11-08T16:58:37.739180",
     "exception": false,
     "start_time": "2024-11-08T16:58:37.709753",
     "status": "completed"
    },
    "tags": []
   },
   "outputs": [
    {
     "data": {
      "text/plain": [
       "142"
      ]
     },
     "execution_count": 10,
     "metadata": {},
     "output_type": "execute_result"
    }
   ],
   "source": [
    "COLS = df_test.columns.drop('id')\n",
    "len(COLS)"
   ]
  },
  {
   "cell_type": "markdown",
   "id": "16beb68a",
   "metadata": {
    "papermill": {
     "duration": 0.017452,
     "end_time": "2024-11-08T16:58:37.774107",
     "exception": false,
     "start_time": "2024-11-08T16:58:37.756655",
     "status": "completed"
    },
    "tags": []
   },
   "source": [
    "## 3. Preprocessing"
   ]
  },
  {
   "cell_type": "markdown",
   "id": "a5a6402d",
   "metadata": {
    "papermill": {
     "duration": 0.017053,
     "end_time": "2024-11-08T16:58:37.809128",
     "exception": false,
     "start_time": "2024-11-08T16:58:37.792075",
     "status": "completed"
    },
    "tags": []
   },
   "source": [
    "## .. 3.1. Drop non-label rows\n",
    "- TODO: Generate sii from other features"
   ]
  },
  {
   "cell_type": "code",
   "execution_count": null,
   "id": "2fd74d8e",
   "metadata": {
    "execution": {
     "iopub.execute_input": "2024-11-08T16:58:37.846023Z",
     "iopub.status.busy": "2024-11-08T16:58:37.845581Z",
     "iopub.status.idle": "2024-11-08T16:58:37.863292Z",
     "shell.execute_reply": "2024-11-08T16:58:37.862115Z"
    },
    "papermill": {
     "duration": 0.038946,
     "end_time": "2024-11-08T16:58:37.865894",
     "exception": false,
     "start_time": "2024-11-08T16:58:37.826948",
     "status": "completed"
    },
    "tags": []
   },
   "outputs": [
    {
     "data": {
      "text/plain": [
       "sii\n",
       "0.0    1594\n",
       "NaN    1224\n",
       "1.0     730\n",
       "2.0     378\n",
       "3.0      34\n",
       "Name: count, dtype: int64"
      ]
     },
     "execution_count": 11,
     "metadata": {},
     "output_type": "execute_result"
    }
   ],
   "source": [
    "df_train['sii'].value_counts(dropna=False)"
   ]
  },
  {
   "cell_type": "code",
   "execution_count": null,
   "id": "1ef8126d",
   "metadata": {
    "execution": {
     "iopub.execute_input": "2024-11-08T16:58:37.903441Z",
     "iopub.status.busy": "2024-11-08T16:58:37.903009Z",
     "iopub.status.idle": "2024-11-08T16:58:37.926865Z",
     "shell.execute_reply": "2024-11-08T16:58:37.925862Z"
    },
    "papermill": {
     "duration": 0.045821,
     "end_time": "2024-11-08T16:58:37.929318",
     "exception": false,
     "start_time": "2024-11-08T16:58:37.883497",
     "status": "completed"
    },
    "tags": []
   },
   "outputs": [
    {
     "data": {
      "text/plain": [
       "(2736, 166)"
      ]
     },
     "execution_count": 12,
     "metadata": {},
     "output_type": "execute_result"
    }
   ],
   "source": [
    "df_train = df_train.dropna(subset='sii').copy()\n",
    "df_train.shape"
   ]
  },
  {
   "cell_type": "markdown",
   "id": "7be6016f",
   "metadata": {
    "papermill": {
     "duration": 0.018401,
     "end_time": "2024-11-08T16:58:37.965435",
     "exception": false,
     "start_time": "2024-11-08T16:58:37.947034",
     "status": "completed"
    },
    "tags": []
   },
   "source": [
    "## .. 3.2. Set Category Columns"
   ]
  },
  {
   "cell_type": "code",
   "execution_count": null,
   "id": "56f3f334",
   "metadata": {
    "execution": {
     "iopub.execute_input": "2024-11-08T16:58:38.003151Z",
     "iopub.status.busy": "2024-11-08T16:58:38.002131Z",
     "iopub.status.idle": "2024-11-08T16:58:38.010749Z",
     "shell.execute_reply": "2024-11-08T16:58:38.009567Z"
    },
    "papermill": {
     "duration": 0.030002,
     "end_time": "2024-11-08T16:58:38.013119",
     "exception": false,
     "start_time": "2024-11-08T16:58:37.983117",
     "status": "completed"
    },
    "tags": []
   },
   "outputs": [
    {
     "data": {
      "text/plain": [
       "['Basic_Demos-Enroll_Season',\n",
       " 'CGAS-Season',\n",
       " 'Physical-Season',\n",
       " 'Fitness_Endurance-Season',\n",
       " 'FGC-Season',\n",
       " 'BIA-Season',\n",
       " 'PAQ_A-Season',\n",
       " 'PAQ_C-Season',\n",
       " 'SDS-Season',\n",
       " 'PreInt_EduHx-Season']"
      ]
     },
     "execution_count": 13,
     "metadata": {},
     "output_type": "execute_result"
    }
   ],
   "source": [
    "COLS_season = COLS[COLS.str.contains('Season')].to_list()\n",
    "COLS_season"
   ]
  },
  {
   "cell_type": "code",
   "execution_count": null,
   "id": "a3cf1d71",
   "metadata": {
    "execution": {
     "iopub.execute_input": "2024-11-08T16:58:38.050385Z",
     "iopub.status.busy": "2024-11-08T16:58:38.049896Z",
     "iopub.status.idle": "2024-11-08T16:58:38.064765Z",
     "shell.execute_reply": "2024-11-08T16:58:38.063694Z"
    },
    "papermill": {
     "duration": 0.036299,
     "end_time": "2024-11-08T16:58:38.067180",
     "exception": false,
     "start_time": "2024-11-08T16:58:38.030881",
     "status": "completed"
    },
    "tags": []
   },
   "outputs": [
    {
     "data": {
      "text/plain": [
       "Basic_Demos-Enroll_Season       0\n",
       "CGAS-Season                   394\n",
       "Physical-Season               141\n",
       "Fitness_Endurance-Season     1476\n",
       "FGC-Season                     89\n",
       "BIA-Season                    892\n",
       "PAQ_A-Season                 2373\n",
       "PAQ_C-Season                 1296\n",
       "SDS-Season                    209\n",
       "PreInt_EduHx-Season            17\n",
       "dtype: int64"
      ]
     },
     "execution_count": 14,
     "metadata": {},
     "output_type": "execute_result"
    }
   ],
   "source": [
    "df_train[COLS_season].isna().sum()"
   ]
  },
  {
   "cell_type": "code",
   "execution_count": null,
   "id": "8ccc7e86",
   "metadata": {
    "execution": {
     "iopub.execute_input": "2024-11-08T16:58:38.104723Z",
     "iopub.status.busy": "2024-11-08T16:58:38.104275Z",
     "iopub.status.idle": "2024-11-08T16:58:38.115591Z",
     "shell.execute_reply": "2024-11-08T16:58:38.114375Z"
    },
    "papermill": {
     "duration": 0.032964,
     "end_time": "2024-11-08T16:58:38.118063",
     "exception": false,
     "start_time": "2024-11-08T16:58:38.085099",
     "status": "completed"
    },
    "tags": []
   },
   "outputs": [
    {
     "data": {
      "text/plain": [
       "Basic_Demos-Enroll_Season     0\n",
       "CGAS-Season                  10\n",
       "Physical-Season               6\n",
       "Fitness_Endurance-Season     16\n",
       "FGC-Season                    3\n",
       "BIA-Season                   12\n",
       "PAQ_A-Season                 19\n",
       "PAQ_C-Season                 11\n",
       "SDS-Season                   10\n",
       "PreInt_EduHx-Season           2\n",
       "dtype: int64"
      ]
     },
     "execution_count": 15,
     "metadata": {},
     "output_type": "execute_result"
    }
   ],
   "source": [
    "df_test[COLS_season].isna().sum()"
   ]
  },
  {
   "cell_type": "code",
   "execution_count": null,
   "id": "f870fc45",
   "metadata": {
    "execution": {
     "iopub.execute_input": "2024-11-08T16:58:38.156284Z",
     "iopub.status.busy": "2024-11-08T16:58:38.155811Z",
     "iopub.status.idle": "2024-11-08T16:58:38.186178Z",
     "shell.execute_reply": "2024-11-08T16:58:38.184975Z"
    },
    "papermill": {
     "duration": 0.052767,
     "end_time": "2024-11-08T16:58:38.189001",
     "exception": false,
     "start_time": "2024-11-08T16:58:38.136234",
     "status": "completed"
    },
    "tags": []
   },
   "outputs": [],
   "source": [
    "for col in COLS_season:\n",
    "    df_train[col] = df_train[col].astype('category')\n",
    "    df_test[col] = df_test[col].astype('category')"
   ]
  },
  {
   "cell_type": "markdown",
   "id": "af0a1389",
   "metadata": {
    "papermill": {
     "duration": 0.017868,
     "end_time": "2024-11-08T16:58:38.225104",
     "exception": false,
     "start_time": "2024-11-08T16:58:38.207236",
     "status": "completed"
    },
    "tags": []
   },
   "source": [
    "## 4. cross_validate - LGBM"
   ]
  },
  {
   "cell_type": "markdown",
   "id": "b49138b2",
   "metadata": {
    "papermill": {
     "duration": 0.017878,
     "end_time": "2024-11-08T16:58:38.261716",
     "exception": false,
     "start_time": "2024-11-08T16:58:38.243838",
     "status": "completed"
    },
    "tags": []
   },
   "source": [
    "## .. 4.1. Prepare Scorer and CV"
   ]
  },
  {
   "cell_type": "code",
   "execution_count": null,
   "id": "b84a821b",
   "metadata": {
    "execution": {
     "iopub.execute_input": "2024-11-08T16:58:38.299701Z",
     "iopub.status.busy": "2024-11-08T16:58:38.299251Z",
     "iopub.status.idle": "2024-11-08T16:58:38.305321Z",
     "shell.execute_reply": "2024-11-08T16:58:38.304107Z"
    },
    "papermill": {
     "duration": 0.028017,
     "end_time": "2024-11-08T16:58:38.307951",
     "exception": false,
     "start_time": "2024-11-08T16:58:38.279934",
     "status": "completed"
    },
    "tags": []
   },
   "outputs": [],
   "source": [
    "def digitize_and_cohen_kappa(y_true, y_pred, bins):\n",
    "    y_pred_binned = np.digitize(y_pred, bins)\n",
    "    return cohen_kappa_score(y_true, y_pred_binned, weights='quadratic')"
   ]
  },
  {
   "cell_type": "code",
   "execution_count": null,
   "id": "7f008e92",
   "metadata": {
    "execution": {
     "iopub.execute_input": "2024-11-08T16:58:38.345933Z",
     "iopub.status.busy": "2024-11-08T16:58:38.345495Z",
     "iopub.status.idle": "2024-11-08T16:58:38.350985Z",
     "shell.execute_reply": "2024-11-08T16:58:38.349857Z"
    },
    "papermill": {
     "duration": 0.027354,
     "end_time": "2024-11-08T16:58:38.353524",
     "exception": false,
     "start_time": "2024-11-08T16:58:38.326170",
     "status": "completed"
    },
    "tags": []
   },
   "outputs": [],
   "source": [
    "bins = [0.5, 1.5, 2.5]\n",
    "kappa_scorer = make_scorer(digitize_and_cohen_kappa, bins=bins, greater_is_better=True)"
   ]
  },
  {
   "cell_type": "code",
   "execution_count": null,
   "id": "752c24b6",
   "metadata": {
    "execution": {
     "iopub.execute_input": "2024-11-08T16:58:38.392303Z",
     "iopub.status.busy": "2024-11-08T16:58:38.391848Z",
     "iopub.status.idle": "2024-11-08T16:58:38.396873Z",
     "shell.execute_reply": "2024-11-08T16:58:38.395815Z"
    },
    "papermill": {
     "duration": 0.027149,
     "end_time": "2024-11-08T16:58:38.399275",
     "exception": false,
     "start_time": "2024-11-08T16:58:38.372126",
     "status": "completed"
    },
    "tags": []
   },
   "outputs": [],
   "source": [
    "cv = StratifiedKFold(5)"
   ]
  },
  {
   "cell_type": "markdown",
   "id": "967493da",
   "metadata": {
    "papermill": {
     "duration": 0.017583,
     "end_time": "2024-11-08T16:58:38.435012",
     "exception": false,
     "start_time": "2024-11-08T16:58:38.417429",
     "status": "completed"
    },
    "tags": []
   },
   "source": [
    "## .. 4.2. cross_validate()"
   ]
  },
  {
   "cell_type": "code",
   "execution_count": null,
   "id": "e08c328b",
   "metadata": {
    "execution": {
     "iopub.execute_input": "2024-11-08T16:58:38.473552Z",
     "iopub.status.busy": "2024-11-08T16:58:38.473084Z",
     "iopub.status.idle": "2024-11-08T16:58:47.653873Z",
     "shell.execute_reply": "2024-11-08T16:58:47.652758Z"
    },
    "papermill": {
     "duration": 9.203578,
     "end_time": "2024-11-08T16:58:47.656720",
     "exception": false,
     "start_time": "2024-11-08T16:58:38.453142",
     "status": "completed"
    },
    "tags": []
   },
   "outputs": [
    {
     "name": "stdout",
     "output_type": "stream",
     "text": [
      "[LightGBM] [Info] Total Bins 20659\n",
      "[LightGBM] [Info] Number of data points in the train set: 2188, number of used features: 142\n",
      "[LightGBM] [Info] Start training from score 0.579982\n",
      "[LightGBM] [Info] Total Bins 20609\n",
      "[LightGBM] [Info] Number of data points in the train set: 2189, number of used features: 142\n",
      "[LightGBM] [Info] Start training from score 0.581087\n",
      "[LightGBM] [Info] Total Bins 20651\n",
      "[LightGBM] [Info] Number of data points in the train set: 2189, number of used features: 142\n",
      "[LightGBM] [Info] Start training from score 0.579717\n",
      "[LightGBM] [Info] Total Bins 20587\n",
      "[LightGBM] [Info] Number of data points in the train set: 2189, number of used features: 142\n",
      "[LightGBM] [Info] Start training from score 0.580630\n",
      "[LightGBM] [Info] Total Bins 20632\n",
      "[LightGBM] [Info] Number of data points in the train set: 2189, number of used features: 142\n",
      "[LightGBM] [Info] Start training from score 0.580630\n"
     ]
    }
   ],
   "source": [
    "cv_results = cross_validate(\n",
    "    lgb.LGBMRegressor(\n",
    "        **CFG['LGB_PARAMS'],\n",
    "        random_state=CFG['SEED'],\n",
    "        n_jobs=1,\n",
    "        force_col_wise=True,\n",
    "    ),\n",
    "    df_train[COLS], df_train['sii'],\n",
    "    cv=cv,\n",
    "    scoring={'cohen_kappa': kappa_scorer},\n",
    "    return_train_score=True,\n",
    "    return_estimator=True,\n",
    ")"
   ]
  },
  {
   "cell_type": "code",
   "execution_count": null,
   "id": "e398700c",
   "metadata": {
    "execution": {
     "iopub.execute_input": "2024-11-08T16:58:47.695874Z",
     "iopub.status.busy": "2024-11-08T16:58:47.695444Z",
     "iopub.status.idle": "2024-11-08T16:58:47.707803Z",
     "shell.execute_reply": "2024-11-08T16:58:47.706534Z"
    },
    "papermill": {
     "duration": 0.034527,
     "end_time": "2024-11-08T16:58:47.710022",
     "exception": false,
     "start_time": "2024-11-08T16:58:47.675495",
     "status": "completed"
    },
    "tags": []
   },
   "outputs": [
    {
     "data": {
      "text/plain": [
       "{'fit_time': array([1.9620533 , 1.98706508, 1.62191224, 1.61389017, 1.63838005]),\n",
       " 'score_time': array([0.0248847 , 0.01878643, 0.01848316, 0.01845002, 0.01870632]),\n",
       " 'estimator': [LGBMRegressor(force_col_wise=True, n_jobs=1, random_state=42),\n",
       "  LGBMRegressor(force_col_wise=True, n_jobs=1, random_state=42),\n",
       "  LGBMRegressor(force_col_wise=True, n_jobs=1, random_state=42),\n",
       "  LGBMRegressor(force_col_wise=True, n_jobs=1, random_state=42),\n",
       "  LGBMRegressor(force_col_wise=True, n_jobs=1, random_state=42)],\n",
       " 'test_cohen_kappa': array([0.39680902, 0.46016689, 0.39038916, 0.39233512, 0.35076928]),\n",
       " 'train_cohen_kappa': array([0.93460028, 0.92723858, 0.9254701 , 0.92897209, 0.92883482])}"
      ]
     },
     "execution_count": 21,
     "metadata": {},
     "output_type": "execute_result"
    }
   ],
   "source": [
    "cv_results"
   ]
  },
  {
   "cell_type": "code",
   "execution_count": null,
   "id": "3555a1d3",
   "metadata": {
    "execution": {
     "iopub.execute_input": "2024-11-08T16:58:47.749406Z",
     "iopub.status.busy": "2024-11-08T16:58:47.748930Z",
     "iopub.status.idle": "2024-11-08T16:58:47.756788Z",
     "shell.execute_reply": "2024-11-08T16:58:47.755817Z"
    },
    "papermill": {
     "duration": 0.030324,
     "end_time": "2024-11-08T16:58:47.759151",
     "exception": false,
     "start_time": "2024-11-08T16:58:47.728827",
     "status": "completed"
    },
    "tags": []
   },
   "outputs": [
    {
     "data": {
      "text/plain": [
       "0.3980938927182535"
      ]
     },
     "execution_count": 22,
     "metadata": {},
     "output_type": "execute_result"
    }
   ],
   "source": [
    "np.mean(cv_results['test_cohen_kappa'])"
   ]
  },
  {
   "cell_type": "markdown",
   "id": "e55c4b49",
   "metadata": {
    "papermill": {
     "duration": 0.018342,
     "end_time": "2024-11-08T16:58:47.796343",
     "exception": false,
     "start_time": "2024-11-08T16:58:47.778001",
     "status": "completed"
    },
    "tags": []
   },
   "source": [
    "## .. 4.3. Feature Importance"
   ]
  },
  {
   "cell_type": "code",
   "execution_count": null,
   "id": "f96caa74",
   "metadata": {
    "execution": {
     "iopub.execute_input": "2024-11-08T16:58:47.835891Z",
     "iopub.status.busy": "2024-11-08T16:58:47.835181Z",
     "iopub.status.idle": "2024-11-08T16:58:47.847597Z",
     "shell.execute_reply": "2024-11-08T16:58:47.846451Z"
    },
    "papermill": {
     "duration": 0.034839,
     "end_time": "2024-11-08T16:58:47.849978",
     "exception": false,
     "start_time": "2024-11-08T16:58:47.815139",
     "status": "completed"
    },
    "tags": []
   },
   "outputs": [
    {
     "data": {
      "text/plain": [
       "Basic_Demos-Age                           942.004484\n",
       "SDS-SDS_Total_Raw                         551.800183\n",
       "PreInt_EduHx-computerinternet_hoursday    334.957506\n",
       "Physical-Systolic_BP                      218.030220\n",
       "CGAS-CGAS_Score                           187.051085\n",
       "                                             ...    \n",
       "stat_57                                     0.000000\n",
       "stat_70                                     0.000000\n",
       "stat_69                                     0.000000\n",
       "stat_27                                     0.000000\n",
       "stat_29                                     0.000000\n",
       "Length: 142, dtype: float64"
      ]
     },
     "execution_count": 23,
     "metadata": {},
     "output_type": "execute_result"
    }
   ],
   "source": [
    "model = cv_results['estimator'][0]\n",
    "model.importance_type = 'gain'\n",
    "\n",
    "ser_imp = pd.Series(model.feature_importances_, index=model.feature_name_).sort_values(ascending=False)\n",
    "ser_imp = ser_imp.sort_values(ascending=False)\n",
    "ser_imp"
   ]
  },
  {
   "cell_type": "markdown",
   "id": "c139c45b",
   "metadata": {
    "papermill": {
     "duration": 0.018703,
     "end_time": "2024-11-08T16:58:47.887802",
     "exception": false,
     "start_time": "2024-11-08T16:58:47.869099",
     "status": "completed"
    },
    "tags": []
   },
   "source": [
    "## .. 4.4. cross_validate with reduced columns"
   ]
  },
  {
   "cell_type": "code",
   "execution_count": null,
   "id": "9c14c23c",
   "metadata": {
    "execution": {
     "iopub.execute_input": "2024-11-08T16:58:47.927167Z",
     "iopub.status.busy": "2024-11-08T16:58:47.926759Z",
     "iopub.status.idle": "2024-11-08T16:58:47.934870Z",
     "shell.execute_reply": "2024-11-08T16:58:47.933720Z"
    },
    "papermill": {
     "duration": 0.030797,
     "end_time": "2024-11-08T16:58:47.937424",
     "exception": false,
     "start_time": "2024-11-08T16:58:47.906627",
     "status": "completed"
    },
    "tags": []
   },
   "outputs": [
    {
     "data": {
      "text/plain": [
       "Index(['stat_33', 'stat_82', 'stat_81', 'stat_41', 'stat_45', 'stat_77',\n",
       "       'stat_34', 'stat_64', 'stat_65', 'stat_53', 'stat_30', 'stat_57',\n",
       "       'stat_70', 'stat_69', 'stat_27', 'stat_29'],\n",
       "      dtype='object')"
      ]
     },
     "execution_count": 24,
     "metadata": {},
     "output_type": "execute_result"
    }
   ],
   "source": [
    "COLS_remove = ser_imp[ser_imp == 0].index\n",
    "COLS_remove"
   ]
  },
  {
   "cell_type": "code",
   "execution_count": null,
   "id": "9e6135ce",
   "metadata": {
    "execution": {
     "iopub.execute_input": "2024-11-08T16:58:47.977865Z",
     "iopub.status.busy": "2024-11-08T16:58:47.977442Z",
     "iopub.status.idle": "2024-11-08T16:58:47.985344Z",
     "shell.execute_reply": "2024-11-08T16:58:47.984340Z"
    },
    "papermill": {
     "duration": 0.030977,
     "end_time": "2024-11-08T16:58:47.987683",
     "exception": false,
     "start_time": "2024-11-08T16:58:47.956706",
     "status": "completed"
    },
    "tags": []
   },
   "outputs": [
    {
     "data": {
      "text/plain": [
       "Index(['Basic_Demos-Enroll_Season', 'Basic_Demos-Age', 'Basic_Demos-Sex',\n",
       "       'CGAS-Season', 'CGAS-CGAS_Score', 'Physical-Season', 'Physical-BMI',\n",
       "       'Physical-Height', 'Physical-Weight', 'Physical-Waist_Circumference',\n",
       "       ...\n",
       "       'stat_71', 'stat_72', 'stat_73', 'stat_74', 'stat_75', 'stat_76',\n",
       "       'stat_78', 'stat_79', 'stat_80', 'stat_83'],\n",
       "      dtype='object', length=126)"
      ]
     },
     "execution_count": 25,
     "metadata": {},
     "output_type": "execute_result"
    }
   ],
   "source": [
    "COLS_REDUCED = COLS.drop(COLS_remove)\n",
    "COLS_REDUCED"
   ]
  },
  {
   "cell_type": "code",
   "execution_count": null,
   "id": "329647a3",
   "metadata": {
    "execution": {
     "iopub.execute_input": "2024-11-08T16:58:48.028917Z",
     "iopub.status.busy": "2024-11-08T16:58:48.028191Z",
     "iopub.status.idle": "2024-11-08T16:58:56.114132Z",
     "shell.execute_reply": "2024-11-08T16:58:56.112888Z"
    },
    "papermill": {
     "duration": 8.109391,
     "end_time": "2024-11-08T16:58:56.116792",
     "exception": false,
     "start_time": "2024-11-08T16:58:48.007401",
     "status": "completed"
    },
    "tags": []
   },
   "outputs": [
    {
     "name": "stdout",
     "output_type": "stream",
     "text": [
      "[LightGBM] [Info] Total Bins 20320\n",
      "[LightGBM] [Info] Number of data points in the train set: 2188, number of used features: 126\n",
      "[LightGBM] [Info] Start training from score 0.579982\n",
      "[LightGBM] [Info] Total Bins 20271\n",
      "[LightGBM] [Info] Number of data points in the train set: 2189, number of used features: 126\n",
      "[LightGBM] [Info] Start training from score 0.581087\n",
      "[LightGBM] [Info] Total Bins 20313\n",
      "[LightGBM] [Info] Number of data points in the train set: 2189, number of used features: 126\n",
      "[LightGBM] [Info] Start training from score 0.579717\n",
      "[LightGBM] [Info] Total Bins 20247\n",
      "[LightGBM] [Info] Number of data points in the train set: 2189, number of used features: 126\n",
      "[LightGBM] [Info] Start training from score 0.580630\n",
      "[LightGBM] [Info] Total Bins 20291\n",
      "[LightGBM] [Info] Number of data points in the train set: 2189, number of used features: 126\n",
      "[LightGBM] [Info] Start training from score 0.580630\n"
     ]
    },
    {
     "data": {
      "text/plain": [
       "{'fit_time': array([1.54086423, 1.55226159, 1.54637122, 1.54562974, 1.55814743]),\n",
       " 'score_time': array([0.01903391, 0.01837277, 0.01910019, 0.01878929, 0.01873732]),\n",
       " 'estimator': [LGBMRegressor(force_col_wise=True, n_jobs=1, random_state=42),\n",
       "  LGBMRegressor(force_col_wise=True, n_jobs=1, random_state=42),\n",
       "  LGBMRegressor(force_col_wise=True, n_jobs=1, random_state=42),\n",
       "  LGBMRegressor(force_col_wise=True, n_jobs=1, random_state=42),\n",
       "  LGBMRegressor(force_col_wise=True, n_jobs=1, random_state=42)],\n",
       " 'test_cohen_kappa': array([0.39680902, 0.47121462, 0.40863188, 0.36166625, 0.35639534]),\n",
       " 'train_cohen_kappa': array([0.93460028, 0.92543451, 0.91711178, 0.93428992, 0.93088863])}"
      ]
     },
     "execution_count": 26,
     "metadata": {},
     "output_type": "execute_result"
    }
   ],
   "source": [
    "cv_results_reduced = cross_validate(\n",
    "    lgb.LGBMRegressor(\n",
    "        **CFG['LGB_PARAMS'],\n",
    "        random_state=CFG['SEED'],\n",
    "        n_jobs=1,\n",
    "        force_col_wise=True,\n",
    "    ),\n",
    "    df_train[COLS_REDUCED], df_train['sii'],\n",
    "    cv=cv,\n",
    "    scoring={'cohen_kappa': kappa_scorer},\n",
    "    return_train_score=True,\n",
    "    return_estimator=True,\n",
    ")\n",
    "cv_results_reduced"
   ]
  },
  {
   "cell_type": "code",
   "execution_count": null,
   "id": "5c4d96a9",
   "metadata": {
    "execution": {
     "iopub.execute_input": "2024-11-08T16:58:56.159021Z",
     "iopub.status.busy": "2024-11-08T16:58:56.158597Z",
     "iopub.status.idle": "2024-11-08T16:58:56.166240Z",
     "shell.execute_reply": "2024-11-08T16:58:56.165108Z"
    },
    "papermill": {
     "duration": 0.031531,
     "end_time": "2024-11-08T16:58:56.168799",
     "exception": false,
     "start_time": "2024-11-08T16:58:56.137268",
     "status": "completed"
    },
    "tags": []
   },
   "outputs": [
    {
     "data": {
      "text/plain": [
       "0.3989434218445285"
      ]
     },
     "execution_count": 27,
     "metadata": {},
     "output_type": "execute_result"
    }
   ],
   "source": [
    "np.mean(cv_results_reduced['test_cohen_kappa'])"
   ]
  },
  {
   "cell_type": "markdown",
   "id": "63de0f5e",
   "metadata": {
    "papermill": {
     "duration": 0.023447,
     "end_time": "2024-11-08T16:58:56.217019",
     "exception": false,
     "start_time": "2024-11-08T16:58:56.193572",
     "status": "completed"
    },
    "tags": []
   },
   "source": [
    "## .. 4.5. different bins"
   ]
  },
  {
   "cell_type": "code",
   "execution_count": null,
   "id": "99d3228e",
   "metadata": {
    "execution": {
     "iopub.execute_input": "2024-11-08T16:58:56.267305Z",
     "iopub.status.busy": "2024-11-08T16:58:56.266369Z",
     "iopub.status.idle": "2024-11-08T16:59:04.939301Z",
     "shell.execute_reply": "2024-11-08T16:59:04.937070Z"
    },
    "papermill": {
     "duration": 8.709584,
     "end_time": "2024-11-08T16:59:04.950528",
     "exception": false,
     "start_time": "2024-11-08T16:58:56.240944",
     "status": "completed"
    },
    "tags": []
   },
   "outputs": [
    {
     "name": "stdout",
     "output_type": "stream",
     "text": [
      "[LightGBM] [Info] Total Bins 20659\n",
      "[LightGBM] [Info] Number of data points in the train set: 2188, number of used features: 142\n",
      "[LightGBM] [Info] Start training from score 0.579982\n",
      "[LightGBM] [Info] Total Bins 20609\n",
      "[LightGBM] [Info] Number of data points in the train set: 2189, number of used features: 142\n",
      "[LightGBM] [Info] Start training from score 0.581087\n",
      "[LightGBM] [Info] Total Bins 20651\n",
      "[LightGBM] [Info] Number of data points in the train set: 2189, number of used features: 142\n",
      "[LightGBM] [Info] Start training from score 0.579717\n",
      "[LightGBM] [Info] Total Bins 20587\n",
      "[LightGBM] [Info] Number of data points in the train set: 2189, number of used features: 142\n",
      "[LightGBM] [Info] Start training from score 0.580630\n",
      "[LightGBM] [Info] Total Bins 20632\n",
      "[LightGBM] [Info] Number of data points in the train set: 2189, number of used features: 142\n",
      "[LightGBM] [Info] Start training from score 0.580630\n"
     ]
    },
    {
     "data": {
      "text/plain": [
       "{'fit_time': array([1.62330651, 1.64360619, 1.66183615, 1.63719821, 1.72890592]),\n",
       " 'score_time': array([0.01901269, 0.01898718, 0.01874948, 0.01865101, 0.03907037]),\n",
       " 'test_cohen_kappa': array([0.38279349, 0.42449611, 0.41008203, 0.38439925, 0.38231908]),\n",
       " 'train_cohen_kappa': array([0.90303812, 0.9024584 , 0.90765513, 0.9064895 , 0.90515808])}"
      ]
     },
     "execution_count": 28,
     "metadata": {},
     "output_type": "execute_result"
    }
   ],
   "source": [
    "bins_temp = [0.6, 1.6, 2.6]\n",
    "kappa_scorer_6 = make_scorer(digitize_and_cohen_kappa, bins=bins_temp, greater_is_better=True)\n",
    "\n",
    "cv_results_bin = cross_validate(\n",
    "    lgb.LGBMRegressor(\n",
    "        **CFG['LGB_PARAMS'],\n",
    "        random_state=CFG['SEED'],\n",
    "        n_jobs=1,\n",
    "        force_col_wise=True,\n",
    "    ),\n",
    "    df_train[COLS], df_train['sii'],\n",
    "    cv=cv,\n",
    "    scoring={'cohen_kappa': kappa_scorer_6},\n",
    "    return_train_score=True,\n",
    "    return_estimator=False,\n",
    ")\n",
    "cv_results_bin"
   ]
  },
  {
   "cell_type": "code",
   "execution_count": null,
   "id": "d22c153a",
   "metadata": {
    "execution": {
     "iopub.execute_input": "2024-11-08T16:59:05.003505Z",
     "iopub.status.busy": "2024-11-08T16:59:05.002990Z",
     "iopub.status.idle": "2024-11-08T16:59:05.012017Z",
     "shell.execute_reply": "2024-11-08T16:59:05.010864Z"
    },
    "papermill": {
     "duration": 0.03577,
     "end_time": "2024-11-08T16:59:05.014435",
     "exception": false,
     "start_time": "2024-11-08T16:59:04.978665",
     "status": "completed"
    },
    "tags": []
   },
   "outputs": [
    {
     "data": {
      "text/plain": [
       "0.3968179898755836"
      ]
     },
     "execution_count": 29,
     "metadata": {},
     "output_type": "execute_result"
    }
   ],
   "source": [
    "np.mean(cv_results_bin['test_cohen_kappa'])"
   ]
  },
  {
   "cell_type": "markdown",
   "id": "b6b9a9da",
   "metadata": {
    "papermill": {
     "duration": 0.023684,
     "end_time": "2024-11-08T16:59:05.061670",
     "exception": false,
     "start_time": "2024-11-08T16:59:05.037986",
     "status": "completed"
    },
    "tags": []
   },
   "source": [
    "## 5. Final Models"
   ]
  },
  {
   "cell_type": "code",
   "execution_count": null,
   "id": "8bf118ee",
   "metadata": {
    "execution": {
     "iopub.execute_input": "2024-11-08T16:59:05.111432Z",
     "iopub.status.busy": "2024-11-08T16:59:05.110954Z",
     "iopub.status.idle": "2024-11-08T16:59:05.116200Z",
     "shell.execute_reply": "2024-11-08T16:59:05.115059Z"
    },
    "papermill": {
     "duration": 0.033039,
     "end_time": "2024-11-08T16:59:05.118621",
     "exception": false,
     "start_time": "2024-11-08T16:59:05.085582",
     "status": "completed"
    },
    "tags": []
   },
   "outputs": [],
   "source": [
    "models = cv_results_reduced['estimator']"
   ]
  },
  {
   "cell_type": "code",
   "execution_count": null,
   "id": "0dab247a",
   "metadata": {
    "execution": {
     "iopub.execute_input": "2024-11-08T16:59:05.168893Z",
     "iopub.status.busy": "2024-11-08T16:59:05.167736Z",
     "iopub.status.idle": "2024-11-08T16:59:05.178879Z",
     "shell.execute_reply": "2024-11-08T16:59:05.177492Z"
    },
    "papermill": {
     "duration": 0.039936,
     "end_time": "2024-11-08T16:59:05.182239",
     "exception": false,
     "start_time": "2024-11-08T16:59:05.142303",
     "status": "completed"
    },
    "tags": []
   },
   "outputs": [],
   "source": [
    "lgbm = lgb.LGBMRegressor(\n",
    "    num_leaves=31,\n",
    "    max_depth=-1,\n",
    "    n_estimators=100,\n",
    "    min_child_samples=20,\n",
    "    random_state=CFG['SEED'],\n",
    "    n_jobs=1,\n",
    "    force_col_wise=True,\n",
    ")"
   ]
  },
  {
   "cell_type": "code",
   "execution_count": null,
   "id": "0b2f39d5",
   "metadata": {
    "execution": {
     "iopub.execute_input": "2024-11-08T16:59:05.229975Z",
     "iopub.status.busy": "2024-11-08T16:59:05.228588Z",
     "iopub.status.idle": "2024-11-08T16:59:07.195318Z",
     "shell.execute_reply": "2024-11-08T16:59:07.194078Z"
    },
    "papermill": {
     "duration": 1.993272,
     "end_time": "2024-11-08T16:59:07.198303",
     "exception": false,
     "start_time": "2024-11-08T16:59:05.205031",
     "status": "completed"
    },
    "tags": []
   },
   "outputs": [
    {
     "name": "stdout",
     "output_type": "stream",
     "text": [
      "[LightGBM] [Info] Total Bins 20938\n",
      "[LightGBM] [Info] Number of data points in the train set: 2736, number of used features: 126\n",
      "[LightGBM] [Info] Start training from score 0.580409\n"
     ]
    }
   ],
   "source": [
    "# Use whole data\n",
    "lgbm.fit(df_train[COLS_REDUCED], df_train['sii'])\n",
    "models.append(lgbm)"
   ]
  },
  {
   "cell_type": "markdown",
   "id": "826fb1df",
   "metadata": {
    "papermill": {
     "duration": 0.020925,
     "end_time": "2024-11-08T16:59:07.243934",
     "exception": false,
     "start_time": "2024-11-08T16:59:07.223009",
     "status": "completed"
    },
    "tags": []
   },
   "source": [
    "## 6. Voting"
   ]
  },
  {
   "cell_type": "code",
   "execution_count": null,
   "id": "e754c678",
   "metadata": {
    "execution": {
     "iopub.execute_input": "2024-11-08T16:59:07.292351Z",
     "iopub.status.busy": "2024-11-08T16:59:07.291099Z",
     "iopub.status.idle": "2024-11-08T16:59:07.297235Z",
     "shell.execute_reply": "2024-11-08T16:59:07.296138Z"
    },
    "papermill": {
     "duration": 0.032043,
     "end_time": "2024-11-08T16:59:07.299861",
     "exception": false,
     "start_time": "2024-11-08T16:59:07.267818",
     "status": "completed"
    },
    "tags": []
   },
   "outputs": [],
   "source": [
    "WEIGHTS = [1, 1, 1, 1, 1, 2]"
   ]
  },
  {
   "cell_type": "code",
   "execution_count": null,
   "id": "f392a44b",
   "metadata": {
    "execution": {
     "iopub.execute_input": "2024-11-08T16:59:07.350269Z",
     "iopub.status.busy": "2024-11-08T16:59:07.349812Z",
     "iopub.status.idle": "2024-11-08T16:59:07.464006Z",
     "shell.execute_reply": "2024-11-08T16:59:07.462818Z"
    },
    "papermill": {
     "duration": 0.143707,
     "end_time": "2024-11-08T16:59:07.467483",
     "exception": false,
     "start_time": "2024-11-08T16:59:07.323776",
     "status": "completed"
    },
    "tags": []
   },
   "outputs": [
    {
     "data": {
      "text/html": [
       "<div>\n",
       "<style scoped>\n",
       "    .dataframe tbody tr th:only-of-type {\n",
       "        vertical-align: middle;\n",
       "    }\n",
       "\n",
       "    .dataframe tbody tr th {\n",
       "        vertical-align: top;\n",
       "    }\n",
       "\n",
       "    .dataframe thead th {\n",
       "        text-align: right;\n",
       "    }\n",
       "</style>\n",
       "<table border=\"1\" class=\"dataframe\">\n",
       "  <thead>\n",
       "    <tr style=\"text-align: right;\">\n",
       "      <th></th>\n",
       "      <th>model_0</th>\n",
       "      <th>model_1</th>\n",
       "      <th>model_2</th>\n",
       "      <th>model_3</th>\n",
       "      <th>model_4</th>\n",
       "      <th>model_5</th>\n",
       "    </tr>\n",
       "  </thead>\n",
       "  <tbody>\n",
       "    <tr>\n",
       "      <th>0</th>\n",
       "      <td>0.518019</td>\n",
       "      <td>1.026785</td>\n",
       "      <td>1.127445</td>\n",
       "      <td>1.205338</td>\n",
       "      <td>1.172414</td>\n",
       "      <td>1.105683</td>\n",
       "    </tr>\n",
       "    <tr>\n",
       "      <th>1</th>\n",
       "      <td>0.224894</td>\n",
       "      <td>0.005895</td>\n",
       "      <td>0.226981</td>\n",
       "      <td>0.145753</td>\n",
       "      <td>0.102807</td>\n",
       "      <td>0.145151</td>\n",
       "    </tr>\n",
       "    <tr>\n",
       "      <th>2</th>\n",
       "      <td>0.292421</td>\n",
       "      <td>0.250543</td>\n",
       "      <td>0.265107</td>\n",
       "      <td>0.219911</td>\n",
       "      <td>0.380465</td>\n",
       "      <td>0.292121</td>\n",
       "    </tr>\n",
       "    <tr>\n",
       "      <th>3</th>\n",
       "      <td>-0.136582</td>\n",
       "      <td>0.733740</td>\n",
       "      <td>0.842335</td>\n",
       "      <td>0.830676</td>\n",
       "      <td>0.638753</td>\n",
       "      <td>0.789632</td>\n",
       "    </tr>\n",
       "    <tr>\n",
       "      <th>4</th>\n",
       "      <td>0.576781</td>\n",
       "      <td>0.637962</td>\n",
       "      <td>0.824462</td>\n",
       "      <td>0.592486</td>\n",
       "      <td>0.961970</td>\n",
       "      <td>0.789066</td>\n",
       "    </tr>\n",
       "    <tr>\n",
       "      <th>5</th>\n",
       "      <td>0.771190</td>\n",
       "      <td>0.882500</td>\n",
       "      <td>0.913016</td>\n",
       "      <td>0.897361</td>\n",
       "      <td>0.855107</td>\n",
       "      <td>0.915921</td>\n",
       "    </tr>\n",
       "    <tr>\n",
       "      <th>6</th>\n",
       "      <td>0.646647</td>\n",
       "      <td>0.332937</td>\n",
       "      <td>0.349142</td>\n",
       "      <td>0.152120</td>\n",
       "      <td>0.012782</td>\n",
       "      <td>0.301595</td>\n",
       "    </tr>\n",
       "    <tr>\n",
       "      <th>7</th>\n",
       "      <td>-0.020131</td>\n",
       "      <td>0.209108</td>\n",
       "      <td>-0.319175</td>\n",
       "      <td>0.160359</td>\n",
       "      <td>-0.102938</td>\n",
       "      <td>0.009824</td>\n",
       "    </tr>\n",
       "    <tr>\n",
       "      <th>8</th>\n",
       "      <td>0.889741</td>\n",
       "      <td>1.056569</td>\n",
       "      <td>0.856648</td>\n",
       "      <td>0.509349</td>\n",
       "      <td>0.847974</td>\n",
       "      <td>0.717442</td>\n",
       "    </tr>\n",
       "    <tr>\n",
       "      <th>9</th>\n",
       "      <td>0.413804</td>\n",
       "      <td>0.483148</td>\n",
       "      <td>0.888342</td>\n",
       "      <td>0.536092</td>\n",
       "      <td>0.774809</td>\n",
       "      <td>0.754539</td>\n",
       "    </tr>\n",
       "    <tr>\n",
       "      <th>10</th>\n",
       "      <td>0.512122</td>\n",
       "      <td>0.511255</td>\n",
       "      <td>0.384636</td>\n",
       "      <td>0.378495</td>\n",
       "      <td>0.727418</td>\n",
       "      <td>0.497915</td>\n",
       "    </tr>\n",
       "    <tr>\n",
       "      <th>11</th>\n",
       "      <td>0.261996</td>\n",
       "      <td>0.467870</td>\n",
       "      <td>0.519497</td>\n",
       "      <td>0.429984</td>\n",
       "      <td>0.498008</td>\n",
       "      <td>0.446416</td>\n",
       "    </tr>\n",
       "    <tr>\n",
       "      <th>12</th>\n",
       "      <td>1.072759</td>\n",
       "      <td>1.089692</td>\n",
       "      <td>0.951185</td>\n",
       "      <td>1.121446</td>\n",
       "      <td>1.034011</td>\n",
       "      <td>1.055152</td>\n",
       "    </tr>\n",
       "    <tr>\n",
       "      <th>13</th>\n",
       "      <td>0.758208</td>\n",
       "      <td>1.040577</td>\n",
       "      <td>0.994870</td>\n",
       "      <td>0.685247</td>\n",
       "      <td>0.857328</td>\n",
       "      <td>0.786946</td>\n",
       "    </tr>\n",
       "    <tr>\n",
       "      <th>14</th>\n",
       "      <td>0.784948</td>\n",
       "      <td>1.025038</td>\n",
       "      <td>0.789341</td>\n",
       "      <td>0.297823</td>\n",
       "      <td>0.803504</td>\n",
       "      <td>0.634875</td>\n",
       "    </tr>\n",
       "    <tr>\n",
       "      <th>15</th>\n",
       "      <td>0.694768</td>\n",
       "      <td>1.614153</td>\n",
       "      <td>1.077859</td>\n",
       "      <td>1.393098</td>\n",
       "      <td>1.359556</td>\n",
       "      <td>1.388725</td>\n",
       "    </tr>\n",
       "    <tr>\n",
       "      <th>16</th>\n",
       "      <td>0.086416</td>\n",
       "      <td>0.089570</td>\n",
       "      <td>0.061235</td>\n",
       "      <td>0.102588</td>\n",
       "      <td>0.219757</td>\n",
       "      <td>-0.012733</td>\n",
       "    </tr>\n",
       "    <tr>\n",
       "      <th>17</th>\n",
       "      <td>0.139604</td>\n",
       "      <td>0.284503</td>\n",
       "      <td>-0.021717</td>\n",
       "      <td>0.335427</td>\n",
       "      <td>0.211238</td>\n",
       "      <td>0.113040</td>\n",
       "    </tr>\n",
       "    <tr>\n",
       "      <th>18</th>\n",
       "      <td>0.515796</td>\n",
       "      <td>0.180409</td>\n",
       "      <td>0.215413</td>\n",
       "      <td>0.186678</td>\n",
       "      <td>0.290144</td>\n",
       "      <td>0.239935</td>\n",
       "    </tr>\n",
       "    <tr>\n",
       "      <th>19</th>\n",
       "      <td>0.921965</td>\n",
       "      <td>0.882589</td>\n",
       "      <td>1.061725</td>\n",
       "      <td>0.766141</td>\n",
       "      <td>0.750177</td>\n",
       "      <td>0.640842</td>\n",
       "    </tr>\n",
       "  </tbody>\n",
       "</table>\n",
       "</div>"
      ],
      "text/plain": [
       "     model_0   model_1   model_2   model_3   model_4   model_5\n",
       "0   0.518019  1.026785  1.127445  1.205338  1.172414  1.105683\n",
       "1   0.224894  0.005895  0.226981  0.145753  0.102807  0.145151\n",
       "2   0.292421  0.250543  0.265107  0.219911  0.380465  0.292121\n",
       "3  -0.136582  0.733740  0.842335  0.830676  0.638753  0.789632\n",
       "4   0.576781  0.637962  0.824462  0.592486  0.961970  0.789066\n",
       "5   0.771190  0.882500  0.913016  0.897361  0.855107  0.915921\n",
       "6   0.646647  0.332937  0.349142  0.152120  0.012782  0.301595\n",
       "7  -0.020131  0.209108 -0.319175  0.160359 -0.102938  0.009824\n",
       "8   0.889741  1.056569  0.856648  0.509349  0.847974  0.717442\n",
       "9   0.413804  0.483148  0.888342  0.536092  0.774809  0.754539\n",
       "10  0.512122  0.511255  0.384636  0.378495  0.727418  0.497915\n",
       "11  0.261996  0.467870  0.519497  0.429984  0.498008  0.446416\n",
       "12  1.072759  1.089692  0.951185  1.121446  1.034011  1.055152\n",
       "13  0.758208  1.040577  0.994870  0.685247  0.857328  0.786946\n",
       "14  0.784948  1.025038  0.789341  0.297823  0.803504  0.634875\n",
       "15  0.694768  1.614153  1.077859  1.393098  1.359556  1.388725\n",
       "16  0.086416  0.089570  0.061235  0.102588  0.219757 -0.012733\n",
       "17  0.139604  0.284503 -0.021717  0.335427  0.211238  0.113040\n",
       "18  0.515796  0.180409  0.215413  0.186678  0.290144  0.239935\n",
       "19  0.921965  0.882589  1.061725  0.766141  0.750177  0.640842"
      ]
     },
     "execution_count": 34,
     "metadata": {},
     "output_type": "execute_result"
    }
   ],
   "source": [
    "df_predict = pd.DataFrame()\n",
    "\n",
    "for i, model in enumerate(models):\n",
    "    df_predict[f'model_{i}'] = model.predict(df_test[COLS_REDUCED])\n",
    "df_predict"
   ]
  },
  {
   "cell_type": "code",
   "execution_count": null,
   "id": "de76dfec",
   "metadata": {
    "execution": {
     "iopub.execute_input": "2024-11-08T16:59:07.540646Z",
     "iopub.status.busy": "2024-11-08T16:59:07.540187Z",
     "iopub.status.idle": "2024-11-08T16:59:07.552699Z",
     "shell.execute_reply": "2024-11-08T16:59:07.551644Z"
    },
    "papermill": {
     "duration": 0.051936,
     "end_time": "2024-11-08T16:59:07.555233",
     "exception": false,
     "start_time": "2024-11-08T16:59:07.503297",
     "status": "completed"
    },
    "tags": []
   },
   "outputs": [
    {
     "data": {
      "text/plain": [
       "array([ 1.0373381 ,  0.14237572,  0.28466967,  0.64116956,  0.73882761,\n",
       "        0.87871674,  0.29954529, -0.00758997,  0.79930927,  0.65789625,\n",
       "        0.5013937 ,  0.43859814,  1.05419951,  0.84430313,  0.71005773,\n",
       "        1.2738406 ,  0.07630003,  0.16787628,  0.26690115,  0.80918311])"
      ]
     },
     "execution_count": 35,
     "metadata": {},
     "output_type": "execute_result"
    }
   ],
   "source": [
    "pred = np.average(df_predict, axis=1, weights=WEIGHTS)\n",
    "pred"
   ]
  },
  {
   "cell_type": "code",
   "execution_count": null,
   "id": "04ee343a",
   "metadata": {
    "execution": {
     "iopub.execute_input": "2024-11-08T16:59:07.601863Z",
     "iopub.status.busy": "2024-11-08T16:59:07.601402Z",
     "iopub.status.idle": "2024-11-08T16:59:07.609183Z",
     "shell.execute_reply": "2024-11-08T16:59:07.607902Z"
    },
    "papermill": {
     "duration": 0.034557,
     "end_time": "2024-11-08T16:59:07.611880",
     "exception": false,
     "start_time": "2024-11-08T16:59:07.577323",
     "status": "completed"
    },
    "tags": []
   },
   "outputs": [
    {
     "data": {
      "text/plain": [
       "[0.5, 1.5, 2.5]"
      ]
     },
     "execution_count": 36,
     "metadata": {},
     "output_type": "execute_result"
    }
   ],
   "source": [
    "bins"
   ]
  },
  {
   "cell_type": "code",
   "execution_count": null,
   "id": "6203c9ce",
   "metadata": {
    "execution": {
     "iopub.execute_input": "2024-11-08T16:59:07.657724Z",
     "iopub.status.busy": "2024-11-08T16:59:07.657286Z",
     "iopub.status.idle": "2024-11-08T16:59:07.668331Z",
     "shell.execute_reply": "2024-11-08T16:59:07.667200Z"
    },
    "papermill": {
     "duration": 0.036831,
     "end_time": "2024-11-08T16:59:07.670726",
     "exception": false,
     "start_time": "2024-11-08T16:59:07.633895",
     "status": "completed"
    },
    "tags": []
   },
   "outputs": [
    {
     "data": {
      "text/plain": [
       "array([1, 0, 0, 1, 1, 1, 0, 0, 1, 1, 1, 0, 1, 1, 1, 1, 0, 0, 0, 1])"
      ]
     },
     "execution_count": 37,
     "metadata": {},
     "output_type": "execute_result"
    }
   ],
   "source": [
    "pred = np.digitize(pred, bins)\n",
    "pred"
   ]
  },
  {
   "cell_type": "markdown",
   "id": "4beca765",
   "metadata": {
    "papermill": {
     "duration": 0.022394,
     "end_time": "2024-11-08T16:59:07.715482",
     "exception": false,
     "start_time": "2024-11-08T16:59:07.693088",
     "status": "completed"
    },
    "tags": []
   },
   "source": [
    "## 7. Submit"
   ]
  },
  {
   "cell_type": "code",
   "execution_count": null,
   "id": "a18864c3",
   "metadata": {
    "execution": {
     "iopub.execute_input": "2024-11-08T16:59:07.763906Z",
     "iopub.status.busy": "2024-11-08T16:59:07.763059Z",
     "iopub.status.idle": "2024-11-08T16:59:07.776453Z",
     "shell.execute_reply": "2024-11-08T16:59:07.775148Z"
    },
    "papermill": {
     "duration": 0.041665,
     "end_time": "2024-11-08T16:59:07.779639",
     "exception": false,
     "start_time": "2024-11-08T16:59:07.737974",
     "status": "completed"
    },
    "tags": []
   },
   "outputs": [
    {
     "data": {
      "text/html": [
       "<div>\n",
       "<style scoped>\n",
       "    .dataframe tbody tr th:only-of-type {\n",
       "        vertical-align: middle;\n",
       "    }\n",
       "\n",
       "    .dataframe tbody tr th {\n",
       "        vertical-align: top;\n",
       "    }\n",
       "\n",
       "    .dataframe thead th {\n",
       "        text-align: right;\n",
       "    }\n",
       "</style>\n",
       "<table border=\"1\" class=\"dataframe\">\n",
       "  <thead>\n",
       "    <tr style=\"text-align: right;\">\n",
       "      <th></th>\n",
       "      <th>id</th>\n",
       "      <th>sii</th>\n",
       "    </tr>\n",
       "  </thead>\n",
       "  <tbody>\n",
       "    <tr>\n",
       "      <th>0</th>\n",
       "      <td>00008ff9</td>\n",
       "      <td>1</td>\n",
       "    </tr>\n",
       "    <tr>\n",
       "      <th>1</th>\n",
       "      <td>000fd460</td>\n",
       "      <td>0</td>\n",
       "    </tr>\n",
       "    <tr>\n",
       "      <th>2</th>\n",
       "      <td>00105258</td>\n",
       "      <td>0</td>\n",
       "    </tr>\n",
       "    <tr>\n",
       "      <th>3</th>\n",
       "      <td>00115b9f</td>\n",
       "      <td>1</td>\n",
       "    </tr>\n",
       "    <tr>\n",
       "      <th>4</th>\n",
       "      <td>0016bb22</td>\n",
       "      <td>1</td>\n",
       "    </tr>\n",
       "    <tr>\n",
       "      <th>5</th>\n",
       "      <td>001f3379</td>\n",
       "      <td>1</td>\n",
       "    </tr>\n",
       "    <tr>\n",
       "      <th>6</th>\n",
       "      <td>0038ba98</td>\n",
       "      <td>0</td>\n",
       "    </tr>\n",
       "    <tr>\n",
       "      <th>7</th>\n",
       "      <td>0068a485</td>\n",
       "      <td>0</td>\n",
       "    </tr>\n",
       "    <tr>\n",
       "      <th>8</th>\n",
       "      <td>0069fbed</td>\n",
       "      <td>1</td>\n",
       "    </tr>\n",
       "    <tr>\n",
       "      <th>9</th>\n",
       "      <td>0083e397</td>\n",
       "      <td>1</td>\n",
       "    </tr>\n",
       "    <tr>\n",
       "      <th>10</th>\n",
       "      <td>0087dd65</td>\n",
       "      <td>1</td>\n",
       "    </tr>\n",
       "    <tr>\n",
       "      <th>11</th>\n",
       "      <td>00abe655</td>\n",
       "      <td>0</td>\n",
       "    </tr>\n",
       "    <tr>\n",
       "      <th>12</th>\n",
       "      <td>00ae59c9</td>\n",
       "      <td>1</td>\n",
       "    </tr>\n",
       "    <tr>\n",
       "      <th>13</th>\n",
       "      <td>00af6387</td>\n",
       "      <td>1</td>\n",
       "    </tr>\n",
       "    <tr>\n",
       "      <th>14</th>\n",
       "      <td>00bd4359</td>\n",
       "      <td>1</td>\n",
       "    </tr>\n",
       "    <tr>\n",
       "      <th>15</th>\n",
       "      <td>00c0cd71</td>\n",
       "      <td>1</td>\n",
       "    </tr>\n",
       "    <tr>\n",
       "      <th>16</th>\n",
       "      <td>00d56d4b</td>\n",
       "      <td>0</td>\n",
       "    </tr>\n",
       "    <tr>\n",
       "      <th>17</th>\n",
       "      <td>00d9913d</td>\n",
       "      <td>0</td>\n",
       "    </tr>\n",
       "    <tr>\n",
       "      <th>18</th>\n",
       "      <td>00e6167c</td>\n",
       "      <td>0</td>\n",
       "    </tr>\n",
       "    <tr>\n",
       "      <th>19</th>\n",
       "      <td>00ebc35d</td>\n",
       "      <td>1</td>\n",
       "    </tr>\n",
       "  </tbody>\n",
       "</table>\n",
       "</div>"
      ],
      "text/plain": [
       "          id  sii\n",
       "0   00008ff9    1\n",
       "1   000fd460    0\n",
       "2   00105258    0\n",
       "3   00115b9f    1\n",
       "4   0016bb22    1\n",
       "5   001f3379    1\n",
       "6   0038ba98    0\n",
       "7   0068a485    0\n",
       "8   0069fbed    1\n",
       "9   0083e397    1\n",
       "10  0087dd65    1\n",
       "11  00abe655    0\n",
       "12  00ae59c9    1\n",
       "13  00af6387    1\n",
       "14  00bd4359    1\n",
       "15  00c0cd71    1\n",
       "16  00d56d4b    0\n",
       "17  00d9913d    0\n",
       "18  00e6167c    0\n",
       "19  00ebc35d    1"
      ]
     },
     "execution_count": 38,
     "metadata": {},
     "output_type": "execute_result"
    }
   ],
   "source": [
    "df_submission = pd.DataFrame({\n",
    "    'id': df_test['id'],\n",
    "    'sii': pred\n",
    "})\n",
    "df_submission"
   ]
  },
  {
   "cell_type": "code",
   "execution_count": null,
   "id": "fb758b07",
   "metadata": {
    "execution": {
     "iopub.execute_input": "2024-11-08T16:59:07.855581Z",
     "iopub.status.busy": "2024-11-08T16:59:07.855094Z",
     "iopub.status.idle": "2024-11-08T16:59:07.872592Z",
     "shell.execute_reply": "2024-11-08T16:59:07.871403Z"
    },
    "papermill": {
     "duration": 0.058382,
     "end_time": "2024-11-08T16:59:07.874996",
     "exception": false,
     "start_time": "2024-11-08T16:59:07.816614",
     "status": "completed"
    },
    "tags": []
   },
   "outputs": [
    {
     "data": {
      "text/plain": [
       "sii\n",
       "1    12\n",
       "0     8\n",
       "Name: count, dtype: int64"
      ]
     },
     "execution_count": 39,
     "metadata": {},
     "output_type": "execute_result"
    }
   ],
   "source": [
    "df_submission['sii'].value_counts()"
   ]
  },
  {
   "cell_type": "code",
   "execution_count": null,
   "id": "a762b8a7",
   "metadata": {
    "execution": {
     "iopub.execute_input": "2024-11-08T16:59:07.923181Z",
     "iopub.status.busy": "2024-11-08T16:59:07.922331Z",
     "iopub.status.idle": "2024-11-08T16:59:07.933424Z",
     "shell.execute_reply": "2024-11-08T16:59:07.932280Z"
    },
    "papermill": {
     "duration": 0.03838,
     "end_time": "2024-11-08T16:59:07.936262",
     "exception": false,
     "start_time": "2024-11-08T16:59:07.897882",
     "status": "completed"
    },
    "tags": []
   },
   "outputs": [],
   "source": [
    "df_submission.to_csv('submission.csv', index=False)"
   ]
  },
  {
   "cell_type": "code",
   "execution_count": null,
   "id": "249d67c0",
   "metadata": {
    "papermill": {
     "duration": 0.023585,
     "end_time": "2024-11-08T16:59:07.982610",
     "exception": false,
     "start_time": "2024-11-08T16:59:07.959025",
     "status": "completed"
    },
    "tags": []
   },
   "outputs": [],
   "source": []
  },
  {
   "cell_type": "code",
   "execution_count": null,
   "id": "c179b9ed",
   "metadata": {},
   "outputs": [],
   "source": []
  },
  {
   "cell_type": "code",
   "execution_count": null,
   "id": "048bd926",
   "metadata": {},
   "outputs": [],
   "source": []
  },
  {
   "cell_type": "code",
   "execution_count": null,
   "id": "76eb77b8",
   "metadata": {},
   "outputs": [],
   "source": []
  },
  {
   "cell_type": "code",
   "execution_count": null,
   "id": "ef0537ba",
   "metadata": {},
   "outputs": [],
   "source": []
  },
  {
   "cell_type": "code",
   "execution_count": null,
   "id": "6fcf6d75",
   "metadata": {},
   "outputs": [],
   "source": []
  },
  {
   "cell_type": "code",
   "execution_count": null,
   "id": "81a0647e",
   "metadata": {},
   "outputs": [],
   "source": []
  },
  {
   "cell_type": "code",
   "execution_count": null,
   "id": "3623d5fe",
   "metadata": {},
   "outputs": [],
   "source": []
  },
  {
   "cell_type": "code",
   "execution_count": null,
   "id": "29b21c2c",
   "metadata": {},
   "outputs": [],
   "source": []
  },
  {
   "cell_type": "code",
   "execution_count": null,
   "id": "33f751d7",
   "metadata": {},
   "outputs": [],
   "source": []
  },
  {
   "cell_type": "code",
   "execution_count": null,
   "id": "01b6fd47",
   "metadata": {},
   "outputs": [],
   "source": []
  },
  {
   "cell_type": "code",
   "execution_count": null,
   "id": "2c2679eb",
   "metadata": {},
   "outputs": [],
   "source": []
  },
  {
   "cell_type": "code",
   "execution_count": null,
   "id": "7716698e",
   "metadata": {},
   "outputs": [],
   "source": []
  },
  {
   "cell_type": "code",
   "execution_count": null,
   "id": "4c84dae8",
   "metadata": {},
   "outputs": [],
   "source": []
  },
  {
   "cell_type": "code",
   "execution_count": null,
   "id": "4b604c4b",
   "metadata": {},
   "outputs": [],
   "source": []
  },
  {
   "cell_type": "code",
   "execution_count": null,
   "id": "622063d7",
   "metadata": {},
   "outputs": [],
   "source": []
  }
 ],
 "metadata": {
  "kaggle": {
   "accelerator": "none",
   "dataSources": [
    {
     "databundleVersionId": 9643020,
     "sourceId": 81933,
     "sourceType": "competition"
    }
   ],
   "dockerImageVersionId": 30786,
   "isGpuEnabled": false,
   "isInternetEnabled": true,
   "language": "python",
   "sourceType": "notebook"
  },
  "kernelspec": {
   "display_name": "Python 3",
   "language": "python",
   "name": "python3"
  },
  "language_info": {
   "codemirror_mode": {
    "name": "ipython",
    "version": 3
   },
   "file_extension": ".py",
   "mimetype": "text/x-python",
   "name": "python",
   "nbconvert_exporter": "python",
   "pygments_lexer": "ipython3",
   "version": "3.12.1"
  },
  "papermill": {
   "default_parameters": {},
   "duration": 177.468815,
   "end_time": "2024-11-08T16:59:09.031724",
   "environment_variables": {},
   "exception": null,
   "input_path": "__notebook__.ipynb",
   "output_path": "__notebook__.ipynb",
   "parameters": {},
   "start_time": "2024-11-08T16:56:11.562909",
   "version": "2.6.0"
  },
  "widgets": {
   "application/vnd.jupyter.widget-state+json": {
    "state": {
     "023b4fe3f97a4d459660b31e51e6758a": {
      "model_module": "@jupyter-widgets/base",
      "model_module_version": "1.2.0",
      "model_name": "LayoutModel",
      "state": {
       "_model_module": "@jupyter-widgets/base",
       "_model_module_version": "1.2.0",
       "_model_name": "LayoutModel",
       "_view_count": null,
       "_view_module": "@jupyter-widgets/base",
       "_view_module_version": "1.2.0",
       "_view_name": "LayoutView",
       "align_content": null,
       "align_items": null,
       "align_self": null,
       "border": null,
       "bottom": null,
       "display": null,
       "flex": null,
       "flex_flow": null,
       "grid_area": null,
       "grid_auto_columns": null,
       "grid_auto_flow": null,
       "grid_auto_rows": null,
       "grid_column": null,
       "grid_gap": null,
       "grid_row": null,
       "grid_template_areas": null,
       "grid_template_columns": null,
       "grid_template_rows": null,
       "height": null,
       "justify_content": null,
       "justify_items": null,
       "left": null,
       "margin": null,
       "max_height": null,
       "max_width": null,
       "min_height": null,
       "min_width": null,
       "object_fit": null,
       "object_position": null,
       "order": null,
       "overflow": null,
       "overflow_x": null,
       "overflow_y": null,
       "padding": null,
       "right": null,
       "top": null,
       "visibility": null,
       "width": null
      }
     },
     "0f5a1b9520e1402cbdab312283b07d61": {
      "model_module": "@jupyter-widgets/controls",
      "model_module_version": "1.5.0",
      "model_name": "HTMLModel",
      "state": {
       "_dom_classes": [],
       "_model_module": "@jupyter-widgets/controls",
       "_model_module_version": "1.5.0",
       "_model_name": "HTMLModel",
       "_view_count": null,
       "_view_module": "@jupyter-widgets/controls",
       "_view_module_version": "1.5.0",
       "_view_name": "HTMLView",
       "description": "",
       "description_tooltip": null,
       "layout": "IPY_MODEL_b8a8e43ea4d34caebcf39e2ffac25586",
       "placeholder": "​",
       "style": "IPY_MODEL_a3e9c824d1cc49d19834599d0e067732",
       "value": "100%"
      }
     },
     "100cfceb2e25412282a091e90b92955e": {
      "model_module": "@jupyter-widgets/controls",
      "model_module_version": "1.5.0",
      "model_name": "FloatProgressModel",
      "state": {
       "_dom_classes": [],
       "_model_module": "@jupyter-widgets/controls",
       "_model_module_version": "1.5.0",
       "_model_name": "FloatProgressModel",
       "_view_count": null,
       "_view_module": "@jupyter-widgets/controls",
       "_view_module_version": "1.5.0",
       "_view_name": "ProgressView",
       "bar_style": "success",
       "description": "",
       "description_tooltip": null,
       "layout": "IPY_MODEL_e7cdd434b61b4018a446a2e8a7279142",
       "max": 2,
       "min": 0,
       "orientation": "horizontal",
       "style": "IPY_MODEL_bf9a615325134c4a8f22955c0750b05c",
       "value": 2
      }
     },
     "22733f77fd7843efa2507bb0845f7d75": {
      "model_module": "@jupyter-widgets/controls",
      "model_module_version": "1.5.0",
      "model_name": "DescriptionStyleModel",
      "state": {
       "_model_module": "@jupyter-widgets/controls",
       "_model_module_version": "1.5.0",
       "_model_name": "DescriptionStyleModel",
       "_view_count": null,
       "_view_module": "@jupyter-widgets/base",
       "_view_module_version": "1.2.0",
       "_view_name": "StyleView",
       "description_width": ""
      }
     },
     "5e444a63633c45e5bf77126ec222328d": {
      "model_module": "@jupyter-widgets/base",
      "model_module_version": "1.2.0",
      "model_name": "LayoutModel",
      "state": {
       "_model_module": "@jupyter-widgets/base",
       "_model_module_version": "1.2.0",
       "_model_name": "LayoutModel",
       "_view_count": null,
       "_view_module": "@jupyter-widgets/base",
       "_view_module_version": "1.2.0",
       "_view_name": "LayoutView",
       "align_content": null,
       "align_items": null,
       "align_self": null,
       "border": null,
       "bottom": null,
       "display": null,
       "flex": null,
       "flex_flow": null,
       "grid_area": null,
       "grid_auto_columns": null,
       "grid_auto_flow": null,
       "grid_auto_rows": null,
       "grid_column": null,
       "grid_gap": null,
       "grid_row": null,
       "grid_template_areas": null,
       "grid_template_columns": null,
       "grid_template_rows": null,
       "height": null,
       "justify_content": null,
       "justify_items": null,
       "left": null,
       "margin": null,
       "max_height": null,
       "max_width": null,
       "min_height": null,
       "min_width": null,
       "object_fit": null,
       "object_position": null,
       "order": null,
       "overflow": null,
       "overflow_x": null,
       "overflow_y": null,
       "padding": null,
       "right": null,
       "top": null,
       "visibility": null,
       "width": null
      }
     },
     "806098c129744973955a25a88c825cfc": {
      "model_module": "@jupyter-widgets/controls",
      "model_module_version": "1.5.0",
      "model_name": "HBoxModel",
      "state": {
       "_dom_classes": [],
       "_model_module": "@jupyter-widgets/controls",
       "_model_module_version": "1.5.0",
       "_model_name": "HBoxModel",
       "_view_count": null,
       "_view_module": "@jupyter-widgets/controls",
       "_view_module_version": "1.5.0",
       "_view_name": "HBoxView",
       "box_style": "",
       "children": [
        "IPY_MODEL_0f5a1b9520e1402cbdab312283b07d61",
        "IPY_MODEL_100cfceb2e25412282a091e90b92955e",
        "IPY_MODEL_bd0c4e4eddd24f4cac0b4b3b12ccb9a1"
       ],
       "layout": "IPY_MODEL_ac84bf29a2434ede8e7b9edbfba08863"
      }
     },
     "a3e9c824d1cc49d19834599d0e067732": {
      "model_module": "@jupyter-widgets/controls",
      "model_module_version": "1.5.0",
      "model_name": "DescriptionStyleModel",
      "state": {
       "_model_module": "@jupyter-widgets/controls",
       "_model_module_version": "1.5.0",
       "_model_name": "DescriptionStyleModel",
       "_view_count": null,
       "_view_module": "@jupyter-widgets/base",
       "_view_module_version": "1.2.0",
       "_view_name": "StyleView",
       "description_width": ""
      }
     },
     "ac84bf29a2434ede8e7b9edbfba08863": {
      "model_module": "@jupyter-widgets/base",
      "model_module_version": "1.2.0",
      "model_name": "LayoutModel",
      "state": {
       "_model_module": "@jupyter-widgets/base",
       "_model_module_version": "1.2.0",
       "_model_name": "LayoutModel",
       "_view_count": null,
       "_view_module": "@jupyter-widgets/base",
       "_view_module_version": "1.2.0",
       "_view_name": "LayoutView",
       "align_content": null,
       "align_items": null,
       "align_self": null,
       "border": null,
       "bottom": null,
       "display": null,
       "flex": null,
       "flex_flow": null,
       "grid_area": null,
       "grid_auto_columns": null,
       "grid_auto_flow": null,
       "grid_auto_rows": null,
       "grid_column": null,
       "grid_gap": null,
       "grid_row": null,
       "grid_template_areas": null,
       "grid_template_columns": null,
       "grid_template_rows": null,
       "height": null,
       "justify_content": null,
       "justify_items": null,
       "left": null,
       "margin": null,
       "max_height": null,
       "max_width": null,
       "min_height": null,
       "min_width": null,
       "object_fit": null,
       "object_position": null,
       "order": null,
       "overflow": null,
       "overflow_x": null,
       "overflow_y": null,
       "padding": null,
       "right": null,
       "top": null,
       "visibility": null,
       "width": null
      }
     },
     "ad522b84c10f46b8a2d73125ca3e5ce7": {
      "model_module": "@jupyter-widgets/base",
      "model_module_version": "1.2.0",
      "model_name": "LayoutModel",
      "state": {
       "_model_module": "@jupyter-widgets/base",
       "_model_module_version": "1.2.0",
       "_model_name": "LayoutModel",
       "_view_count": null,
       "_view_module": "@jupyter-widgets/base",
       "_view_module_version": "1.2.0",
       "_view_name": "LayoutView",
       "align_content": null,
       "align_items": null,
       "align_self": null,
       "border": null,
       "bottom": null,
       "display": null,
       "flex": null,
       "flex_flow": null,
       "grid_area": null,
       "grid_auto_columns": null,
       "grid_auto_flow": null,
       "grid_auto_rows": null,
       "grid_column": null,
       "grid_gap": null,
       "grid_row": null,
       "grid_template_areas": null,
       "grid_template_columns": null,
       "grid_template_rows": null,
       "height": null,
       "justify_content": null,
       "justify_items": null,
       "left": null,
       "margin": null,
       "max_height": null,
       "max_width": null,
       "min_height": null,
       "min_width": null,
       "object_fit": null,
       "object_position": null,
       "order": null,
       "overflow": null,
       "overflow_x": null,
       "overflow_y": null,
       "padding": null,
       "right": null,
       "top": null,
       "visibility": null,
       "width": null
      }
     },
     "b376fb916f6f4ae187169f9c5771153f": {
      "model_module": "@jupyter-widgets/controls",
      "model_module_version": "1.5.0",
      "model_name": "DescriptionStyleModel",
      "state": {
       "_model_module": "@jupyter-widgets/controls",
       "_model_module_version": "1.5.0",
       "_model_name": "DescriptionStyleModel",
       "_view_count": null,
       "_view_module": "@jupyter-widgets/base",
       "_view_module_version": "1.2.0",
       "_view_name": "StyleView",
       "description_width": ""
      }
     },
     "b8a8e43ea4d34caebcf39e2ffac25586": {
      "model_module": "@jupyter-widgets/base",
      "model_module_version": "1.2.0",
      "model_name": "LayoutModel",
      "state": {
       "_model_module": "@jupyter-widgets/base",
       "_model_module_version": "1.2.0",
       "_model_name": "LayoutModel",
       "_view_count": null,
       "_view_module": "@jupyter-widgets/base",
       "_view_module_version": "1.2.0",
       "_view_name": "LayoutView",
       "align_content": null,
       "align_items": null,
       "align_self": null,
       "border": null,
       "bottom": null,
       "display": null,
       "flex": null,
       "flex_flow": null,
       "grid_area": null,
       "grid_auto_columns": null,
       "grid_auto_flow": null,
       "grid_auto_rows": null,
       "grid_column": null,
       "grid_gap": null,
       "grid_row": null,
       "grid_template_areas": null,
       "grid_template_columns": null,
       "grid_template_rows": null,
       "height": null,
       "justify_content": null,
       "justify_items": null,
       "left": null,
       "margin": null,
       "max_height": null,
       "max_width": null,
       "min_height": null,
       "min_width": null,
       "object_fit": null,
       "object_position": null,
       "order": null,
       "overflow": null,
       "overflow_x": null,
       "overflow_y": null,
       "padding": null,
       "right": null,
       "top": null,
       "visibility": null,
       "width": null
      }
     },
     "bd0c4e4eddd24f4cac0b4b3b12ccb9a1": {
      "model_module": "@jupyter-widgets/controls",
      "model_module_version": "1.5.0",
      "model_name": "HTMLModel",
      "state": {
       "_dom_classes": [],
       "_model_module": "@jupyter-widgets/controls",
       "_model_module_version": "1.5.0",
       "_model_name": "HTMLModel",
       "_view_count": null,
       "_view_module": "@jupyter-widgets/controls",
       "_view_module_version": "1.5.0",
       "_view_name": "HTMLView",
       "description": "",
       "description_tooltip": null,
       "layout": "IPY_MODEL_ad522b84c10f46b8a2d73125ca3e5ce7",
       "placeholder": "​",
       "style": "IPY_MODEL_22733f77fd7843efa2507bb0845f7d75",
       "value": " 2/2 [00:00&lt;00:00, 10.19it/s]"
      }
     },
     "bd424f3b25bc45bfbfd1f31fd917c7e9": {
      "model_module": "@jupyter-widgets/controls",
      "model_module_version": "1.5.0",
      "model_name": "DescriptionStyleModel",
      "state": {
       "_model_module": "@jupyter-widgets/controls",
       "_model_module_version": "1.5.0",
       "_model_name": "DescriptionStyleModel",
       "_view_count": null,
       "_view_module": "@jupyter-widgets/base",
       "_view_module_version": "1.2.0",
       "_view_name": "StyleView",
       "description_width": ""
      }
     },
     "bf9a615325134c4a8f22955c0750b05c": {
      "model_module": "@jupyter-widgets/controls",
      "model_module_version": "1.5.0",
      "model_name": "ProgressStyleModel",
      "state": {
       "_model_module": "@jupyter-widgets/controls",
       "_model_module_version": "1.5.0",
       "_model_name": "ProgressStyleModel",
       "_view_count": null,
       "_view_module": "@jupyter-widgets/base",
       "_view_module_version": "1.2.0",
       "_view_name": "StyleView",
       "bar_color": null,
       "description_width": ""
      }
     },
     "c270d16fbd7143cabff19342ff50dfa5": {
      "model_module": "@jupyter-widgets/controls",
      "model_module_version": "1.5.0",
      "model_name": "HTMLModel",
      "state": {
       "_dom_classes": [],
       "_model_module": "@jupyter-widgets/controls",
       "_model_module_version": "1.5.0",
       "_model_name": "HTMLModel",
       "_view_count": null,
       "_view_module": "@jupyter-widgets/controls",
       "_view_module_version": "1.5.0",
       "_view_name": "HTMLView",
       "description": "",
       "description_tooltip": null,
       "layout": "IPY_MODEL_c9cf740ca2464c15acb03714979ac8cc",
       "placeholder": "​",
       "style": "IPY_MODEL_b376fb916f6f4ae187169f9c5771153f",
       "value": "100%"
      }
     },
     "c9cf740ca2464c15acb03714979ac8cc": {
      "model_module": "@jupyter-widgets/base",
      "model_module_version": "1.2.0",
      "model_name": "LayoutModel",
      "state": {
       "_model_module": "@jupyter-widgets/base",
       "_model_module_version": "1.2.0",
       "_model_name": "LayoutModel",
       "_view_count": null,
       "_view_module": "@jupyter-widgets/base",
       "_view_module_version": "1.2.0",
       "_view_name": "LayoutView",
       "align_content": null,
       "align_items": null,
       "align_self": null,
       "border": null,
       "bottom": null,
       "display": null,
       "flex": null,
       "flex_flow": null,
       "grid_area": null,
       "grid_auto_columns": null,
       "grid_auto_flow": null,
       "grid_auto_rows": null,
       "grid_column": null,
       "grid_gap": null,
       "grid_row": null,
       "grid_template_areas": null,
       "grid_template_columns": null,
       "grid_template_rows": null,
       "height": null,
       "justify_content": null,
       "justify_items": null,
       "left": null,
       "margin": null,
       "max_height": null,
       "max_width": null,
       "min_height": null,
       "min_width": null,
       "object_fit": null,
       "object_position": null,
       "order": null,
       "overflow": null,
       "overflow_x": null,
       "overflow_y": null,
       "padding": null,
       "right": null,
       "top": null,
       "visibility": null,
       "width": null
      }
     },
     "ccac90b489a540d3bcb7e916091b39fa": {
      "model_module": "@jupyter-widgets/controls",
      "model_module_version": "1.5.0",
      "model_name": "ProgressStyleModel",
      "state": {
       "_model_module": "@jupyter-widgets/controls",
       "_model_module_version": "1.5.0",
       "_model_name": "ProgressStyleModel",
       "_view_count": null,
       "_view_module": "@jupyter-widgets/base",
       "_view_module_version": "1.2.0",
       "_view_name": "StyleView",
       "bar_color": null,
       "description_width": ""
      }
     },
     "cf167baa471b47ca91b6f669fa01ba1f": {
      "model_module": "@jupyter-widgets/controls",
      "model_module_version": "1.5.0",
      "model_name": "HBoxModel",
      "state": {
       "_dom_classes": [],
       "_model_module": "@jupyter-widgets/controls",
       "_model_module_version": "1.5.0",
       "_model_name": "HBoxModel",
       "_view_count": null,
       "_view_module": "@jupyter-widgets/controls",
       "_view_module_version": "1.5.0",
       "_view_name": "HBoxView",
       "box_style": "",
       "children": [
        "IPY_MODEL_c270d16fbd7143cabff19342ff50dfa5",
        "IPY_MODEL_ea7f486cca7242faab155a9e0a627af9",
        "IPY_MODEL_d7d306021bdc4fb29fcf6ec4c79670f4"
       ],
       "layout": "IPY_MODEL_5e444a63633c45e5bf77126ec222328d"
      }
     },
     "d7d306021bdc4fb29fcf6ec4c79670f4": {
      "model_module": "@jupyter-widgets/controls",
      "model_module_version": "1.5.0",
      "model_name": "HTMLModel",
      "state": {
       "_dom_classes": [],
       "_model_module": "@jupyter-widgets/controls",
       "_model_module_version": "1.5.0",
       "_model_name": "HTMLModel",
       "_view_count": null,
       "_view_module": "@jupyter-widgets/controls",
       "_view_module_version": "1.5.0",
       "_view_name": "HTMLView",
       "description": "",
       "description_tooltip": null,
       "layout": "IPY_MODEL_e1288884653e4d069667644eb5a10d15",
       "placeholder": "​",
       "style": "IPY_MODEL_bd424f3b25bc45bfbfd1f31fd917c7e9",
       "value": " 996/996 [02:17&lt;00:00,  9.56it/s]"
      }
     },
     "e1288884653e4d069667644eb5a10d15": {
      "model_module": "@jupyter-widgets/base",
      "model_module_version": "1.2.0",
      "model_name": "LayoutModel",
      "state": {
       "_model_module": "@jupyter-widgets/base",
       "_model_module_version": "1.2.0",
       "_model_name": "LayoutModel",
       "_view_count": null,
       "_view_module": "@jupyter-widgets/base",
       "_view_module_version": "1.2.0",
       "_view_name": "LayoutView",
       "align_content": null,
       "align_items": null,
       "align_self": null,
       "border": null,
       "bottom": null,
       "display": null,
       "flex": null,
       "flex_flow": null,
       "grid_area": null,
       "grid_auto_columns": null,
       "grid_auto_flow": null,
       "grid_auto_rows": null,
       "grid_column": null,
       "grid_gap": null,
       "grid_row": null,
       "grid_template_areas": null,
       "grid_template_columns": null,
       "grid_template_rows": null,
       "height": null,
       "justify_content": null,
       "justify_items": null,
       "left": null,
       "margin": null,
       "max_height": null,
       "max_width": null,
       "min_height": null,
       "min_width": null,
       "object_fit": null,
       "object_position": null,
       "order": null,
       "overflow": null,
       "overflow_x": null,
       "overflow_y": null,
       "padding": null,
       "right": null,
       "top": null,
       "visibility": null,
       "width": null
      }
     },
     "e7cdd434b61b4018a446a2e8a7279142": {
      "model_module": "@jupyter-widgets/base",
      "model_module_version": "1.2.0",
      "model_name": "LayoutModel",
      "state": {
       "_model_module": "@jupyter-widgets/base",
       "_model_module_version": "1.2.0",
       "_model_name": "LayoutModel",
       "_view_count": null,
       "_view_module": "@jupyter-widgets/base",
       "_view_module_version": "1.2.0",
       "_view_name": "LayoutView",
       "align_content": null,
       "align_items": null,
       "align_self": null,
       "border": null,
       "bottom": null,
       "display": null,
       "flex": null,
       "flex_flow": null,
       "grid_area": null,
       "grid_auto_columns": null,
       "grid_auto_flow": null,
       "grid_auto_rows": null,
       "grid_column": null,
       "grid_gap": null,
       "grid_row": null,
       "grid_template_areas": null,
       "grid_template_columns": null,
       "grid_template_rows": null,
       "height": null,
       "justify_content": null,
       "justify_items": null,
       "left": null,
       "margin": null,
       "max_height": null,
       "max_width": null,
       "min_height": null,
       "min_width": null,
       "object_fit": null,
       "object_position": null,
       "order": null,
       "overflow": null,
       "overflow_x": null,
       "overflow_y": null,
       "padding": null,
       "right": null,
       "top": null,
       "visibility": null,
       "width": null
      }
     },
     "ea7f486cca7242faab155a9e0a627af9": {
      "model_module": "@jupyter-widgets/controls",
      "model_module_version": "1.5.0",
      "model_name": "FloatProgressModel",
      "state": {
       "_dom_classes": [],
       "_model_module": "@jupyter-widgets/controls",
       "_model_module_version": "1.5.0",
       "_model_name": "FloatProgressModel",
       "_view_count": null,
       "_view_module": "@jupyter-widgets/controls",
       "_view_module_version": "1.5.0",
       "_view_name": "ProgressView",
       "bar_style": "success",
       "description": "",
       "description_tooltip": null,
       "layout": "IPY_MODEL_023b4fe3f97a4d459660b31e51e6758a",
       "max": 996,
       "min": 0,
       "orientation": "horizontal",
       "style": "IPY_MODEL_ccac90b489a540d3bcb7e916091b39fa",
       "value": 996
      }
     }
    },
    "version_major": 2,
    "version_minor": 0
   }
  }
 },
 "nbformat": 4,
 "nbformat_minor": 5
}
